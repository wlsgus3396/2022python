{
 "cells": [
  {
   "cell_type": "code",
   "execution_count": 82,
   "id": "04fe78a7",
   "metadata": {},
   "outputs": [],
   "source": [
    "class graph():\n",
    "    def __init__(self,size):\n",
    "        self.SIZE=size\n",
    "        self.graph=[[0 for _ in range(size)] for _ in range(size)]    "
   ]
  },
  {
   "cell_type": "code",
   "execution_count": 83,
   "id": "d5034744",
   "metadata": {},
   "outputs": [],
   "source": [
    "def printGraph(g):\n",
    "    print('',end='')\n",
    "    for v in range(g.SIZE):\n",
    "        print(nameAry[v],end='')\n",
    "    print()\n",
    "    for row in range(g.SIZE):\n",
    "        print(nameAry[row], end='')\n",
    "        for col in range(g.SIZE):\n",
    "            print(g.graph[row][col], end='')\n",
    "        print()"
   ]
  },
  {
   "cell_type": "markdown",
   "id": "c6fabae2",
   "metadata": {},
   "source": [
    "## 깊이우선탐색 DFS (Depth-First Search)"
   ]
  },
  {
   "cell_type": "code",
   "execution_count": 84,
   "id": "0b6b228c",
   "metadata": {},
   "outputs": [],
   "source": [
    "def isStackFull():\n",
    "    global SIZE, stack,top\n",
    "    if (top>= SIZE-1):\n",
    "        return True\n",
    "    else:\n",
    "        return False"
   ]
  },
  {
   "cell_type": "code",
   "execution_count": 85,
   "id": "48816bae",
   "metadata": {},
   "outputs": [],
   "source": [
    "def push(data):\n",
    "    global SIZE, stack,top\n",
    "    if (isStackFull()==True):\n",
    "        print(\"스택이 꽉 찼습니다.\")\n",
    "        return\n",
    "    top+=1\n",
    "    stack[top]=data"
   ]
  },
  {
   "cell_type": "code",
   "execution_count": 86,
   "id": "2310cf2b",
   "metadata": {},
   "outputs": [],
   "source": [
    "def isStackEmpty():\n",
    "    global SIZE, stack,top\n",
    "    if (top== -1):\n",
    "        return True\n",
    "    else:\n",
    "        return False"
   ]
  },
  {
   "cell_type": "code",
   "execution_count": 87,
   "id": "0e07dc6a",
   "metadata": {},
   "outputs": [],
   "source": [
    "def pop():\n",
    "    global SIZE, stack,top\n",
    "    if (isStackEmpty()==True):\n",
    "        print(\"스택이 비었습니다.\")\n",
    "        return\n",
    "    data=stack[top]\n",
    "    stack[top]=None\n",
    "    top-=1\n",
    "    return data"
   ]
  },
  {
   "cell_type": "code",
   "execution_count": 88,
   "id": "64eb4ecd",
   "metadata": {},
   "outputs": [
    {
     "name": "stdout",
     "output_type": "stream",
     "text": [
      "## G1 무방향 그래프 ##\n",
      "0011\n",
      "0010\n",
      "1101\n",
      "1010\n"
     ]
    }
   ],
   "source": [
    "G1=graph(4)\n",
    "G1.graph[0][2]=1\n",
    "G1.graph[0][3]=1\n",
    "G1.graph[1][2]=1\n",
    "G1.graph[2][0]=1\n",
    "G1.graph[2][1]=1\n",
    "G1.graph[2][3]=1\n",
    "G1.graph[3][0]=1\n",
    "G1.graph[3][2]=1\n",
    "\n",
    "print('## G1 무방향 그래프 ##')\n",
    "for row in range(4):\n",
    "    for col in range(4):\n",
    "        print(G1.graph[row][col],end='')\n",
    "    print()\n",
    "\n"
   ]
  },
  {
   "cell_type": "code",
   "execution_count": 89,
   "id": "76c365db",
   "metadata": {},
   "outputs": [
    {
     "name": "stdout",
     "output_type": "stream",
     "text": [
      "[3, 2, None, None, None, None, None, None, None, None]\n",
      "[3, 3, 1, 0, None, None, None, None, None, None]\n",
      "[3, 3, 1, None, None, None, None, None, None, None]\n",
      "[3, 3, 2, None, None, None, None, None, None, None]\n",
      "[3, 3, None, None, None, None, None, None, None, None]\n",
      "[3, 2, 0, None, None, None, None, None, None, None]\n",
      "[3, 2, None, None, None, None, None, None, None, None]\n",
      "[3, None, None, None, None, None, None, None, None, None]\n",
      "방문순서 --> ACBD"
     ]
    }
   ],
   "source": [
    "stack=[None for _ in range(10)]\n",
    "top=-1\n",
    "SIZE=4\n",
    "visitedAry=[]\n",
    "\n",
    "current=0\n",
    "visitedAry.append(current)\n",
    "for i in range(SIZE-1,-1,-1):\n",
    "    if G1.graph[current][i]==1:\n",
    "        push(i)\n",
    "while isStackEmpty()==False:\n",
    "    print(stack)\n",
    "    current=pop()\n",
    "    if current in visitedAry:\n",
    "        pass\n",
    "    else:\n",
    "        visitedAry.append(current)\n",
    "        for i in range(SIZE-1,-1,-1):\n",
    "            if G1.graph[current][i]==1:\n",
    "                push(i)\n",
    "print('방문순서 --> ', end='')\n",
    "for i in visitedAry:\n",
    "    print(chr(ord('A')+i),end='')"
   ]
  },
  {
   "cell_type": "code",
   "execution_count": 90,
   "id": "12617c4c",
   "metadata": {},
   "outputs": [
    {
     "data": {
      "text/plain": [
       "[0, 2, 1, 3]"
      ]
     },
     "execution_count": 90,
     "metadata": {},
     "output_type": "execute_result"
    }
   ],
   "source": [
    "visitedAry"
   ]
  },
  {
   "cell_type": "markdown",
   "id": "51f2b4ca",
   "metadata": {},
   "source": [
    "## 깊이우선탐색 DFS (Depth-First Search)-재귀적 정의"
   ]
  },
  {
   "cell_type": "code",
   "execution_count": 91,
   "id": "4bdb4aa2",
   "metadata": {},
   "outputs": [
    {
     "name": "stdout",
     "output_type": "stream",
     "text": [
      "ACBD"
     ]
    }
   ],
   "source": [
    "current=0\n",
    "visitedAry=[]\n",
    "SIZE=4\n",
    "def DFS(v):\n",
    "    if v in visitedAry:\n",
    "        return\n",
    "    visitedAry.append(v)\n",
    "    for i in range(SIZE):\n",
    "        if G1.graph[v][i]==1:\n",
    "            DFS(i)\n",
    "DFS(0)\n",
    "for i in visitedAry:\n",
    "    print(chr(ord('A')+i),end='')"
   ]
  },
  {
   "cell_type": "markdown",
   "id": "444ec8a0",
   "metadata": {},
   "source": [
    "## 너비우선탐색 BFS(Breadth-First Search) "
   ]
  },
  {
   "cell_type": "code",
   "execution_count": 99,
   "id": "b5935eaa",
   "metadata": {},
   "outputs": [],
   "source": [
    "def isQueueFull():\n",
    "    global SIZE, queue,front,rear\n",
    "    if (rear!=SIZE-1):\n",
    "        return False\n",
    "    elif (rear==SIZE-1) and (front==-1):\n",
    "        return True\n",
    "    else:\n",
    "        for i in range(front,rear):\n",
    "            queue[i]=queue[i+1]\n",
    "            queue[i+1]=None\n",
    "        front-=1\n",
    "        rear-=1\n",
    "        return False\n",
    "        "
   ]
  },
  {
   "cell_type": "code",
   "execution_count": 100,
   "id": "f87aa04e",
   "metadata": {},
   "outputs": [],
   "source": [
    "def isQueueEmpty():\n",
    "    global SIZE, queue,front,rear\n",
    "    if (front==rear):\n",
    "        return True\n",
    "    else:\n",
    "        return False"
   ]
  },
  {
   "cell_type": "code",
   "execution_count": 101,
   "id": "5ff9ce71",
   "metadata": {},
   "outputs": [],
   "source": [
    "def enQueue(data):\n",
    "    global SIZE, queue,front,rear\n",
    "    if (isQueueFull()==True):\n",
    "        print(\"큐가 꽉 찼습니다.\")\n",
    "        return\n",
    "    rear+=1\n",
    "    queue[rear]=data"
   ]
  },
  {
   "cell_type": "code",
   "execution_count": 102,
   "id": "c1b73540",
   "metadata": {},
   "outputs": [],
   "source": [
    "def deQueue():\n",
    "    global SIZE, queue,front,rear\n",
    "    if (isQueueEmpty()==True):\n",
    "        print(\"큐가 비었습니다.\")\n",
    "        return None\n",
    "    front+=1\n",
    "    data=queue[front]\n",
    "    queue[front]=None\n",
    "    return data"
   ]
  },
  {
   "cell_type": "code",
   "execution_count": 103,
   "id": "53fc6d30",
   "metadata": {},
   "outputs": [
    {
     "name": "stdout",
     "output_type": "stream",
     "text": [
      "## G1 무방향 그래프 ##\n",
      "0011\n",
      "0010\n",
      "1101\n",
      "1010\n"
     ]
    }
   ],
   "source": [
    "G1=graph(4)\n",
    "G1.graph[0][2]=1\n",
    "G1.graph[0][3]=1\n",
    "G1.graph[1][2]=1\n",
    "G1.graph[2][0]=1\n",
    "G1.graph[2][1]=1\n",
    "G1.graph[2][3]=1\n",
    "G1.graph[3][0]=1\n",
    "G1.graph[3][2]=1\n",
    "\n",
    "print('## G1 무방향 그래프 ##')\n",
    "for row in range(4):\n",
    "    for col in range(4):\n",
    "        print(G1.graph[row][col],end='')\n",
    "    print()\n"
   ]
  },
  {
   "cell_type": "code",
   "execution_count": 105,
   "id": "ea47ef86",
   "metadata": {},
   "outputs": [
    {
     "name": "stdout",
     "output_type": "stream",
     "text": [
      "[2, 3, None, None, None, None, None, None, None, None, None, None, None, None, None]\n",
      "[None, 3, 0, 1, 3, None, None, None, None, None, None, None, None, None, None]\n",
      "[None, None, 0, 1, 3, 0, 2, None, None, None, None, None, None, None, None]\n",
      "[None, None, None, 1, 3, 0, 2, None, None, None, None, None, None, None, None]\n",
      "[None, None, None, None, 3, 0, 2, 2, None, None, None, None, None, None, None]\n",
      "[None, None, None, None, None, 0, 2, 2, None, None, None, None, None, None, None]\n",
      "[None, None, None, None, None, None, 2, 2, None, None, None, None, None, None, None]\n",
      "[None, None, None, None, None, None, None, 2, None, None, None, None, None, None, None]\n",
      "방문순서 --> ACDB"
     ]
    }
   ],
   "source": [
    "SIZE=15\n",
    "queue=[None for _ in range(15)]\n",
    "front=rear=-1\n",
    "\n",
    "visitedAry=[]\n",
    "current=0\n",
    "visitedAry.append(current)\n",
    "for i in range(4):\n",
    "    if G1.graph[current][i]==1:\n",
    "        enQueue(i)\n",
    "while isQueueEmpty()==False:\n",
    "    print(queue)\n",
    "    current=deQueue()\n",
    "    if current in visitedAry:\n",
    "        pass\n",
    "    else:\n",
    "        visitedAry.append(current)\n",
    "        for i in range(4):\n",
    "            if G1.graph[current][i]==1:\n",
    "                enQueue(i)\n",
    "print('방문순서 --> ', end='')\n",
    "for i in visitedAry:\n",
    "    print(chr(ord('A')+i),end='')"
   ]
  },
  {
   "cell_type": "markdown",
   "id": "8719f11c",
   "metadata": {},
   "source": [
    "## 트와이스예시"
   ]
  },
  {
   "cell_type": "code",
   "execution_count": 115,
   "id": "7c05f563",
   "metadata": {},
   "outputs": [],
   "source": [
    "G1=None\n",
    "nameAry=['문별','솔라','휘인','쯔위','선미','화사']\n",
    "문별,솔라,휘인,쯔위,선미,화사=0,1,2,3,4,5\n",
    "SIZE=6\n",
    "G1=graph(6)\n",
    "G1.graph[문별][솔라]=1\n",
    "G1.graph[문별][휘인]=1\n",
    "G1.graph[솔라][문별]=1\n",
    "G1.graph[솔라][쯔위]=1\n",
    "G1.graph[휘인][문별]=1\n",
    "G1.graph[휘인][쯔위]=1\n",
    "G1.graph[쯔위][솔라]=1\n",
    "G1.graph[쯔위][휘인]=1\n",
    "G1.graph[쯔위][선미]=1\n",
    "G1.graph[쯔위][화사]=1\n",
    "G1.graph[선미][쯔위]=1\n",
    "G1.graph[선미][화사]=1\n",
    "G1.graph[화사][쯔위]=1\n",
    "G1.graph[화사][선미]=1\n"
   ]
  },
  {
   "cell_type": "code",
   "execution_count": 116,
   "id": "9445cef2",
   "metadata": {},
   "outputs": [
    {
     "name": "stdout",
     "output_type": "stream",
     "text": [
      "[2, 1, None, None, None, None]\n",
      "[2, 3, 0, None, None, None]\n",
      "[2, 3, None, None, None, None]\n",
      "[2, 5, 4, 2, 1, None]\n",
      "[2, 5, 4, 2, None, None]\n",
      "[2, 5, 4, 3, 0, None]\n",
      "[2, 5, 4, 3, None, None]\n",
      "[2, 5, 4, None, None, None]\n",
      "[2, 5, 5, 3, None, None]\n",
      "[2, 5, 5, None, None, None]\n",
      "[2, 5, 4, 3, None, None]\n",
      "[2, 5, 4, None, None, None]\n",
      "[2, 5, None, None, None, None]\n",
      "[2, None, None, None, None, None]\n",
      "방문순서 --> 문별솔라쯔위휘인선미화사"
     ]
    }
   ],
   "source": [
    "stack=[None for _ in range(6)]\n",
    "top=-1\n",
    "SIZE=6\n",
    "visitedAry=[]\n",
    "\n",
    "current=0\n",
    "visitedAry.append(current)\n",
    "for i in range(SIZE-1,-1,-1):\n",
    "    if G1.graph[current][i]==1:\n",
    "        push(i)\n",
    "while isStackEmpty()==False:\n",
    "    print(stack)\n",
    "    current=pop()\n",
    "    if current in visitedAry:\n",
    "        pass\n",
    "    else:\n",
    "        visitedAry.append(current)\n",
    "        for i in range(SIZE-1,-1,-1):\n",
    "            if G1.graph[current][i]==1:\n",
    "                push(i)\n",
    "print('방문순서 --> ', end='')\n",
    "for i in visitedAry:\n",
    "    print(nameAry[i],end='')"
   ]
  },
  {
   "cell_type": "code",
   "execution_count": 117,
   "id": "3cce09d6",
   "metadata": {},
   "outputs": [
    {
     "name": "stdout",
     "output_type": "stream",
     "text": [
      "방문순서 --> 문별솔라쯔위휘인선미화사"
     ]
    }
   ],
   "source": [
    "current=0\n",
    "visitedAry=[]\n",
    "SIZE=6\n",
    "def DFS(v):\n",
    "    if v in visitedAry:\n",
    "        return\n",
    "    visitedAry.append(v)\n",
    "    for i in range(SIZE):\n",
    "        if G1.graph[v][i]==1:\n",
    "            DFS(i)\n",
    "DFS(0)\n",
    "print('방문순서 --> ', end='')\n",
    "for i in visitedAry:\n",
    "    print(nameAry[i],end='')"
   ]
  },
  {
   "cell_type": "code",
   "execution_count": 119,
   "id": "1a496e25",
   "metadata": {},
   "outputs": [
    {
     "name": "stdout",
     "output_type": "stream",
     "text": [
      "[1, 2, None, None, None, None, None, None, None, None, None, None, None, None, None]\n",
      "[None, 2, 0, 3, None, None, None, None, None, None, None, None, None, None, None]\n",
      "[None, None, 0, 3, 0, 3, None, None, None, None, None, None, None, None, None]\n",
      "[None, None, None, 3, 0, 3, None, None, None, None, None, None, None, None, None]\n",
      "[None, None, None, None, 0, 3, 1, 2, 4, 5, None, None, None, None, None]\n",
      "[None, None, None, None, None, 3, 1, 2, 4, 5, None, None, None, None, None]\n",
      "[None, None, None, None, None, None, 1, 2, 4, 5, None, None, None, None, None]\n",
      "[None, None, None, None, None, None, None, 2, 4, 5, None, None, None, None, None]\n",
      "[None, None, None, None, None, None, None, None, 4, 5, None, None, None, None, None]\n",
      "[None, None, None, None, None, None, None, None, None, 5, 3, 5, None, None, None]\n",
      "[None, None, None, None, None, None, None, None, None, None, 3, 5, 3, 4, None]\n",
      "[None, None, None, None, None, None, None, None, None, None, None, 5, 3, 4, None]\n",
      "[None, None, None, None, None, None, None, None, None, None, None, None, 3, 4, None]\n",
      "[None, None, None, None, None, None, None, None, None, None, None, None, None, 4, None]\n",
      "방문순서 --> 문별솔라휘인쯔위선미화사"
     ]
    }
   ],
   "source": [
    "SIZE=15\n",
    "queue=[None for _ in range(15)]\n",
    "front=rear=-1\n",
    "\n",
    "visitedAry=[]\n",
    "current=0\n",
    "visitedAry.append(current)\n",
    "for i in range(6):\n",
    "    if G1.graph[current][i]==1:\n",
    "        enQueue(i)\n",
    "while isQueueEmpty()==False:\n",
    "    print(queue)\n",
    "    current=deQueue()\n",
    "    if current in visitedAry:\n",
    "        pass\n",
    "    else:\n",
    "        visitedAry.append(current)\n",
    "        for i in range(6):\n",
    "            if G1.graph[current][i]==1:\n",
    "                enQueue(i)\n",
    "print('방문순서 --> ', end='')\n",
    "for i in visitedAry:\n",
    "    print(nameAry[i],end='')"
   ]
  },
  {
   "cell_type": "code",
   "execution_count": null,
   "id": "ba2b4ae9",
   "metadata": {},
   "outputs": [],
   "source": []
  }
 ],
 "metadata": {
  "kernelspec": {
   "display_name": "Python 3",
   "language": "python",
   "name": "python3"
  },
  "language_info": {
   "codemirror_mode": {
    "name": "ipython",
    "version": 3
   },
   "file_extension": ".py",
   "mimetype": "text/x-python",
   "name": "python",
   "nbconvert_exporter": "python",
   "pygments_lexer": "ipython3",
   "version": "3.8.8"
  }
 },
 "nbformat": 4,
 "nbformat_minor": 5
}
