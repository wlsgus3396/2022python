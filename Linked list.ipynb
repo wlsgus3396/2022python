{
 "cells": [
  {
   "cell_type": "markdown",
   "id": "162b0fad",
   "metadata": {},
   "source": [
    "### Linked list - easy example"
   ]
  },
  {
   "cell_type": "code",
   "execution_count": 6,
   "id": "3f6993c7",
   "metadata": {},
   "outputs": [],
   "source": [
    "class Node():\n",
    "    def __init__(self):\n",
    "        self.data=None\n",
    "        self.link=None"
   ]
  },
  {
   "cell_type": "code",
   "execution_count": 5,
   "id": "8d666a2b",
   "metadata": {},
   "outputs": [],
   "source": [
    "node1=Node()\n",
    "node1.data=\"다현\""
   ]
  },
  {
   "cell_type": "code",
   "execution_count": 6,
   "id": "75e29329",
   "metadata": {},
   "outputs": [],
   "source": [
    "node2=Node()\n",
    "node2.data=\"정연\"\n",
    "node1.link=node2"
   ]
  },
  {
   "cell_type": "code",
   "execution_count": 9,
   "id": "b203e111",
   "metadata": {},
   "outputs": [],
   "source": [
    "node3=Node()\n",
    "node3.data=\"쯔위\"\n",
    "node2.link=node3"
   ]
  },
  {
   "cell_type": "code",
   "execution_count": 10,
   "id": "9fd99bad",
   "metadata": {},
   "outputs": [],
   "source": [
    "node4=Node()\n",
    "node4.data=\"사나\"\n",
    "node3.link=node4"
   ]
  },
  {
   "cell_type": "code",
   "execution_count": 11,
   "id": "2dc3de54",
   "metadata": {},
   "outputs": [],
   "source": [
    "node5=Node()\n",
    "node5.data=\"지효\"\n",
    "node4.link=node5"
   ]
  },
  {
   "cell_type": "code",
   "execution_count": 12,
   "id": "8ddd8ce0",
   "metadata": {},
   "outputs": [
    {
     "name": "stdout",
     "output_type": "stream",
     "text": [
      "다현정연쯔위사나지효"
     ]
    }
   ],
   "source": [
    "current=node1\n",
    "print(current.data, end='')\n",
    "while current.link!=None:\n",
    "    current=current.link\n",
    "    print(current.data, end='')\n",
    "    "
   ]
  },
  {
   "cell_type": "code",
   "execution_count": 13,
   "id": "fb2583c0",
   "metadata": {},
   "outputs": [],
   "source": [
    "newNode=Node()\n",
    "newNode.data=\"재남\"\n",
    "newNode.link=node2.link\n",
    "node2.link=newNode"
   ]
  },
  {
   "cell_type": "code",
   "execution_count": 14,
   "id": "4897b935",
   "metadata": {},
   "outputs": [
    {
     "name": "stdout",
     "output_type": "stream",
     "text": [
      "다현정연재남쯔위사나지효"
     ]
    }
   ],
   "source": [
    "current=node1\n",
    "print(current.data, end='')\n",
    "while current.link!=None:\n",
    "    current=current.link\n",
    "    print(current.data, end='')"
   ]
  },
  {
   "cell_type": "code",
   "execution_count": 15,
   "id": "4c594ad1",
   "metadata": {},
   "outputs": [],
   "source": [
    "node2.link=newNode.link\n",
    "del(newNode)"
   ]
  },
  {
   "cell_type": "code",
   "execution_count": 16,
   "id": "e30e9f37",
   "metadata": {},
   "outputs": [
    {
     "name": "stdout",
     "output_type": "stream",
     "text": [
      "다현정연쯔위사나지효"
     ]
    }
   ],
   "source": [
    "current=node1\n",
    "print(current.data, end='')\n",
    "while current.link!=None:\n",
    "    current=current.link\n",
    "    print(current.data, end='')"
   ]
  },
  {
   "cell_type": "markdown",
   "id": "6a9a66fb",
   "metadata": {},
   "source": [
    "### Linked list-general example"
   ]
  },
  {
   "cell_type": "code",
   "execution_count": 17,
   "id": "13a884cd",
   "metadata": {},
   "outputs": [],
   "source": [
    "def printNodes(start):\n",
    "    current=start\n",
    "    if current==None:\n",
    "        return\n",
    "    print(current.data,end=\"\")\n",
    "    while current.link!=None:\n",
    "        current=current.link\n",
    "        print(current.data,end=\"\")\n",
    "    print()\n",
    "        "
   ]
  },
  {
   "cell_type": "code",
   "execution_count": 18,
   "id": "5a0e8684",
   "metadata": {},
   "outputs": [],
   "source": [
    "memory=[]\n",
    "head,current,pre=None,None,None\n",
    "dataArray=[\"다현\",\"정연\",\"쯔위\",\"사나\",\"지효\"]"
   ]
  },
  {
   "cell_type": "code",
   "execution_count": 19,
   "id": "54fb75a5",
   "metadata": {},
   "outputs": [
    {
     "name": "stdout",
     "output_type": "stream",
     "text": [
      "다현정연쯔위사나지효\n"
     ]
    }
   ],
   "source": [
    "if __name__==\"__main__\":\n",
    "    node=Node()\n",
    "    node.data=dataArray[0]\n",
    "    head=node\n",
    "    memory.append(node)\n",
    "    for data in dataArray[1:]:\n",
    "        pre=node\n",
    "        node=Node()\n",
    "        node.data=data\n",
    "        pre.link=node\n",
    "        memory.append(node)\n",
    "        \n",
    "    printNodes(head)\n",
    "        "
   ]
  },
  {
   "cell_type": "code",
   "execution_count": 20,
   "id": "55a5e0bc",
   "metadata": {},
   "outputs": [],
   "source": [
    "def insertNode(findData,insertData):\n",
    "    global memory,head,current,pre\n",
    "    if head.data==findData:\n",
    "        node=Node()\n",
    "        node.data=insertData\n",
    "        node.link=head\n",
    "        head=node\n",
    "        return\n",
    "    \n",
    "    current=head\n",
    "    while current.link!=None:\n",
    "        pre=current\n",
    "        current=current.link\n",
    "        if current.data==findData:\n",
    "            node=Node()\n",
    "            node.data=insertData\n",
    "            pre.link=node\n",
    "            node.link=current\n",
    "            return\n",
    "        \n",
    "    node=Node()\n",
    "    node.data=insertData\n",
    "    current.link=node"
   ]
  },
  {
   "cell_type": "code",
   "execution_count": 21,
   "id": "ad5b55bc",
   "metadata": {},
   "outputs": [
    {
     "name": "stdout",
     "output_type": "stream",
     "text": [
      "화사다현정연쯔위사나지효\n",
      "화사다현정연쯔위솔라사나지효\n",
      "화사다현정연쯔위솔라사나지효문별\n"
     ]
    }
   ],
   "source": [
    "if __name__==\"__main__\":\n",
    "    insertNode(\"다현\",\"화사\")\n",
    "    printNodes(head)\n",
    "    insertNode(\"사나\",\"솔라\")\n",
    "    printNodes(head)\n",
    "    insertNode(\"재남\",\"문별\")\n",
    "    printNodes(head)"
   ]
  },
  {
   "cell_type": "code",
   "execution_count": 22,
   "id": "e9a44d45",
   "metadata": {},
   "outputs": [],
   "source": [
    "def deleteNode(deleteData):\n",
    "    global memory,head,current,pre\n",
    "    if head.data==deleteData:\n",
    "        current=head\n",
    "        head=head.link\n",
    "        del(current)\n",
    "        return\n",
    "    current=head\n",
    "    while current.link!=None:\n",
    "        pre=current\n",
    "        current=current.link\n",
    "        if current.data==deleteData:\n",
    "            pre.link=current.link\n",
    "            del(current)\n",
    "            return"
   ]
  },
  {
   "cell_type": "code",
   "execution_count": 23,
   "id": "c1b0378f",
   "metadata": {},
   "outputs": [
    {
     "name": "stdout",
     "output_type": "stream",
     "text": [
      "화사정연쯔위솔라사나지효문별\n",
      "화사정연솔라사나지효문별\n",
      "화사정연솔라사나문별\n",
      "화사정연솔라사나문별\n"
     ]
    }
   ],
   "source": [
    "if __name__==\"__main__\":\n",
    "    deleteNode(\"다현\")\n",
    "    printNodes(head)\n",
    "    deleteNode(\"쯔위\")\n",
    "    printNodes(head)\n",
    "    deleteNode(\"지효\")\n",
    "    printNodes(head)\n",
    "    deleteNode(\"재남\")\n",
    "    printNodes(head)"
   ]
  },
  {
   "cell_type": "code",
   "execution_count": 24,
   "id": "8afef1da",
   "metadata": {},
   "outputs": [],
   "source": [
    "def findNode(findData):\n",
    "    global memory, head, current, pre\n",
    "    current=head\n",
    "    if current.data==findData:\n",
    "        return current\n",
    "    while current.link!=None:\n",
    "        current=current.link\n",
    "        if current.data==findData:\n",
    "            return current\n",
    "    return Node()\n",
    "    "
   ]
  },
  {
   "cell_type": "code",
   "execution_count": 25,
   "id": "1038b527",
   "metadata": {},
   "outputs": [
    {
     "name": "stdout",
     "output_type": "stream",
     "text": [
      "다현정연쯔위사나지효\n"
     ]
    }
   ],
   "source": [
    "memory=[]\n",
    "head,current,pre=None,None,None\n",
    "dataArray=[\"다현\",\"정연\",\"쯔위\",\"사나\",\"지효\"]\n",
    "if __name__==\"__main__\":\n",
    "    node=Node()\n",
    "    node.data=dataArray[0]\n",
    "    head=node\n",
    "    memory.append(node)\n",
    "    for data in dataArray[1:]:\n",
    "        pre=node\n",
    "        node=Node()\n",
    "        node.data=data\n",
    "        pre.link=node\n",
    "        memory.append(node)\n",
    "        \n",
    "    printNodes(head)"
   ]
  },
  {
   "cell_type": "code",
   "execution_count": 26,
   "id": "6c3054ac",
   "metadata": {},
   "outputs": [
    {
     "name": "stdout",
     "output_type": "stream",
     "text": [
      "다현\n"
     ]
    }
   ],
   "source": [
    "fNode=findNode(\"다현\")\n",
    "print(fNode.data)"
   ]
  },
  {
   "cell_type": "code",
   "execution_count": 27,
   "id": "59ec810d",
   "metadata": {},
   "outputs": [
    {
     "name": "stdout",
     "output_type": "stream",
     "text": [
      "쯔위\n"
     ]
    }
   ],
   "source": [
    "fNode=findNode(\"쯔위\")\n",
    "print(fNode.data)"
   ]
  },
  {
   "cell_type": "code",
   "execution_count": 28,
   "id": "1e0b79c1",
   "metadata": {},
   "outputs": [
    {
     "name": "stdout",
     "output_type": "stream",
     "text": [
      "None\n"
     ]
    }
   ],
   "source": [
    "fNode=findNode(\"재남\")\n",
    "print(fNode.data)"
   ]
  },
  {
   "cell_type": "code",
   "execution_count": 29,
   "id": "f21e0bd7",
   "metadata": {},
   "outputs": [],
   "source": [
    "def makeSimpleLinkedList(nameheight):\n",
    "    global memory,head,current,pre\n",
    "    printNodes(head)\n",
    "    node=Node()\n",
    "    node.data=nameheight\n",
    "    memory.append(node)\n",
    "    if head==None:\n",
    "        head=node\n",
    "        return\n",
    "    if head.data[1]>nameheight[1]:\n",
    "        node.link=head\n",
    "        head=node\n",
    "        return\n",
    "    current=head\n",
    "    while current.link!=None:\n",
    "        pre=current\n",
    "        current=current.link\n",
    "        if current.data[1]>nameheight[1]:\n",
    "            node.link=current\n",
    "            pre.link=node\n",
    "            return\n",
    "    current.link=node"
   ]
  },
  {
   "cell_type": "code",
   "execution_count": 30,
   "id": "74c966d7",
   "metadata": {},
   "outputs": [],
   "source": [
    "memory=[]\n",
    "head,current,pre=None,None,None\n",
    "dataArray=[[\"지민\",180],[\"정국\",177],[\"뷔\",183],[\"슈가\",175],[\"진\",179]]"
   ]
  },
  {
   "cell_type": "code",
   "execution_count": 31,
   "id": "34d97db7",
   "metadata": {},
   "outputs": [
    {
     "name": "stdout",
     "output_type": "stream",
     "text": [
      "['지민', 180]\n",
      "['정국', 177]['지민', 180]\n",
      "['정국', 177]['지민', 180]['뷔', 183]\n",
      "['슈가', 175]['정국', 177]['지민', 180]['뷔', 183]\n",
      "['슈가', 175]['정국', 177]['진', 179]['지민', 180]['뷔', 183]\n"
     ]
    }
   ],
   "source": [
    "if __name__==\"__main__\":\n",
    "    for data in dataArray:\n",
    "        makeSimpleLinkedList(data)\n",
    "    printNodes(head)"
   ]
  },
  {
   "cell_type": "code",
   "execution_count": 55,
   "id": "574e30e1",
   "metadata": {},
   "outputs": [],
   "source": [
    "import random\n",
    "def lotto():\n",
    "    dataArray=random.sample(range(1,46),6)\n",
    "    head=Node()\n",
    "    head.data=dataArray[0]\n",
    "    current=head\n",
    "    for i in range(1,6):\n",
    "        node=Node()\n",
    "        node.data=dataArray[i]\n",
    "        pre=current\n",
    "        current=node\n",
    "        pre.link=node\n",
    "    print(\"%d\"%head.data,end=\"\")\n",
    "    current=head\n",
    "    while current.link!=None:\n",
    "        current=current.link\n",
    "        print(\",%d\"%current.data,end=\"\")\n",
    "    "
   ]
  },
  {
   "cell_type": "code",
   "execution_count": 56,
   "id": "dce9f97b",
   "metadata": {},
   "outputs": [
    {
     "name": "stdout",
     "output_type": "stream",
     "text": [
      "22,13,7,41,43,1"
     ]
    }
   ],
   "source": [
    "lotto()"
   ]
  },
  {
   "cell_type": "code",
   "execution_count": null,
   "id": "9179765d",
   "metadata": {},
   "outputs": [],
   "source": []
  }
 ],
 "metadata": {
  "kernelspec": {
   "display_name": "Python 3",
   "language": "python",
   "name": "python3"
  },
  "language_info": {
   "codemirror_mode": {
    "name": "ipython",
    "version": 3
   },
   "file_extension": ".py",
   "mimetype": "text/x-python",
   "name": "python",
   "nbconvert_exporter": "python",
   "pygments_lexer": "ipython3",
   "version": "3.8.8"
  }
 },
 "nbformat": 4,
 "nbformat_minor": 5
}
