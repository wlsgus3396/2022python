{
 "cells": [
  {
   "cell_type": "markdown",
   "id": "f618ea7f",
   "metadata": {},
   "source": [
    "## Queue"
   ]
  },
  {
   "cell_type": "code",
   "execution_count": 1,
   "id": "5eb62bc7",
   "metadata": {},
   "outputs": [],
   "source": [
    "def isQueueFull():\n",
    "    global SIZE, queue,front,rear\n",
    "    if (rear==SIZE-1):\n",
    "        return True\n",
    "    else:\n",
    "        return False"
   ]
  },
  {
   "cell_type": "code",
   "execution_count": 1,
   "id": "ebb5c8f7",
   "metadata": {},
   "outputs": [],
   "source": [
    "def isQueueEmpty():\n",
    "    global SIZE, queue,front,rear\n",
    "    if (front==rear):\n",
    "        return True\n",
    "    else:\n",
    "        return False"
   ]
  },
  {
   "cell_type": "code",
   "execution_count": 2,
   "id": "34a99498",
   "metadata": {},
   "outputs": [],
   "source": [
    "def enQueue(data):\n",
    "    global SIZE, queue,front,rear\n",
    "    if (isQueueFull()==True):\n",
    "        print(\"큐가 꽉 찼습니다.\")\n",
    "        return\n",
    "    rear+=1\n",
    "    queue[rear]=data"
   ]
  },
  {
   "cell_type": "code",
   "execution_count": 2,
   "id": "93983d38",
   "metadata": {},
   "outputs": [],
   "source": [
    "def deQueue():\n",
    "    global SIZE, queue,front,rear\n",
    "    if (isQueueEmpty()==True):\n",
    "        print(\"큐가 비었습니다.\")\n",
    "        return None\n",
    "    front+=1\n",
    "    data=queue[front]\n",
    "    queue[front]=None\n",
    "    return data"
   ]
  },
  {
   "cell_type": "code",
   "execution_count": 7,
   "id": "4c22e02d",
   "metadata": {},
   "outputs": [],
   "source": [
    "def peak():\n",
    "    global SIZE, queue,front,rear\n",
    "    if (isQueueEmpty):\n",
    "        print(\"큐가 비었습니다.\")\n",
    "        return None\n",
    "    return queue[frornt+1]"
   ]
  },
  {
   "cell_type": "code",
   "execution_count": 8,
   "id": "1ac5fd7f",
   "metadata": {},
   "outputs": [
    {
     "name": "stdout",
     "output_type": "stream",
     "text": [
      "stack의 크기를 입력하세요5\n"
     ]
    }
   ],
   "source": [
    "SIZE=int(input(\"큐 크기를 입력하세요\"))\n",
    "stack=[None for _ in range(SIZE)]\n",
    "front=rear=-1"
   ]
  },
  {
   "cell_type": "code",
   "execution_count": 2,
   "id": "d5ee88ab",
   "metadata": {},
   "outputs": [
    {
     "name": "stdout",
     "output_type": "stream",
     "text": [
      "삽입(I), 추출(E), 확인(V), 종료(X)X\n",
      "프로그램 종료\n"
     ]
    }
   ],
   "source": [
    "if __name__==\"__main__\":\n",
    "    select=input(\"삽입(I), 추출(E), 확인(V), 종료(X)\")\n",
    "    while (select!=\"X\"):\n",
    "        if select==\"I\":\n",
    "            data=input(\"입력 데이터\")\n",
    "            enQueue(data)\n",
    "            print(\"queue 상태 -->\",stack)\n",
    "        elif select==\"E\":\n",
    "            retData=deQueue()\n",
    "            print(\"추출된 데이터-->\",retData)\n",
    "            print(\"queue 상태 -->\",queue)\n",
    "        elif select==\"V\":\n",
    "            retData=peak()\n",
    "            print(\"확인된 데이터-->\",retData)\n",
    "            print(\"queue 상태 -->\",queue)\n",
    "        else:\n",
    "            print(\"입력이 잘못됨\")\n",
    "        \n",
    "        select=input(\"삽입(I), 추출(E), 확인(V), 종료(X)\")\n",
    "    \n",
    "    print(\"프로그램 종료\")\n",
    "        "
   ]
  },
  {
   "cell_type": "markdown",
   "id": "af5e84aa",
   "metadata": {},
   "source": [
    "## Queue general"
   ]
  },
  {
   "cell_type": "code",
   "execution_count": 3,
   "id": "73b8411c",
   "metadata": {},
   "outputs": [],
   "source": [
    "def isQueueFull():\n",
    "    global SIZE, queue,front,rear\n",
    "    if (rear!=SIZE-1):\n",
    "        return False\n",
    "    elif (rear==SIZE-1) and (front==-1):\n",
    "        return True\n",
    "    else:\n",
    "        for i in range(front,rear):\n",
    "            queue[i]=queue[i+1]\n",
    "            queue[i+1]=None\n",
    "        front-=1\n",
    "        rear-=1\n",
    "        return False\n",
    "        "
   ]
  },
  {
   "cell_type": "markdown",
   "id": "bde6a20d",
   "metadata": {},
   "source": [
    "## Circular queue"
   ]
  },
  {
   "cell_type": "code",
   "execution_count": 4,
   "id": "0a697257",
   "metadata": {},
   "outputs": [],
   "source": [
    "def isQueueFull():\n",
    "    global SIZE, queue,front,rear\n",
    "    if ((rear+1)%SIZE==front):\n",
    "        return True\n",
    "    else:\n",
    "        return False"
   ]
  },
  {
   "cell_type": "code",
   "execution_count": 5,
   "id": "3d86aed0",
   "metadata": {},
   "outputs": [],
   "source": [
    "def isQueueEmpty():\n",
    "    global SIZE, queue,front,rear\n",
    "    if (front==rear):\n",
    "        return True\n",
    "    else:\n",
    "        return False"
   ]
  },
  {
   "cell_type": "code",
   "execution_count": 6,
   "id": "a55cf357",
   "metadata": {},
   "outputs": [],
   "source": [
    "def enQueue(data):\n",
    "    global SIZE, queue,front,rear\n",
    "    if (isQueueFull()==True):\n",
    "        print(\"큐가 꽉 찼습니다.\")\n",
    "        return\n",
    "    rear=(rear+1)%SIZE\n",
    "    queue[rear]=data"
   ]
  },
  {
   "cell_type": "code",
   "execution_count": 7,
   "id": "91c5e526",
   "metadata": {},
   "outputs": [],
   "source": [
    "def deQueue():\n",
    "    global SIZE, queue,front,rear\n",
    "    if (isQueueEmpty()==True):\n",
    "        print(\"큐가 비었습니다.\")\n",
    "        return None\n",
    "    front=(front+1)%SIZE\n",
    "    data=queue[front]\n",
    "    queue[front]=None\n",
    "    return data"
   ]
  },
  {
   "cell_type": "code",
   "execution_count": null,
   "id": "5f39c3f1",
   "metadata": {},
   "outputs": [],
   "source": [
    "def peak():\n",
    "    global SIZE, queue,front,rear\n",
    "    if (isQueueEmpty):\n",
    "        print(\"큐가 비었습니다.\")\n",
    "        return None\n",
    "    return queue[(frornt+1)%SIZE]"
   ]
  }
 ],
 "metadata": {
  "kernelspec": {
   "display_name": "Python 3",
   "language": "python",
   "name": "python3"
  },
  "language_info": {
   "codemirror_mode": {
    "name": "ipython",
    "version": 3
   },
   "file_extension": ".py",
   "mimetype": "text/x-python",
   "name": "python",
   "nbconvert_exporter": "python",
   "pygments_lexer": "ipython3",
   "version": "3.8.8"
  }
 },
 "nbformat": 4,
 "nbformat_minor": 5
}
