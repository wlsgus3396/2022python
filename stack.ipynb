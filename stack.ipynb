{
 "cells": [
  {
   "cell_type": "markdown",
   "id": "f618ea7f",
   "metadata": {},
   "source": [
    "## Stack"
   ]
  },
  {
   "cell_type": "code",
   "execution_count": 1,
   "id": "5eb62bc7",
   "metadata": {},
   "outputs": [],
   "source": [
    "def isStackFull():\n",
    "    global SIZE, stack,top\n",
    "    if (top>= SIZE-1):\n",
    "        return True\n",
    "    else:\n",
    "        return False"
   ]
  },
  {
   "cell_type": "code",
   "execution_count": 2,
   "id": "34a99498",
   "metadata": {},
   "outputs": [],
   "source": [
    "def push(data):\n",
    "    global SIZE, stack,top\n",
    "    if (isStackFull()==True):\n",
    "        print(\"스택이 꽉 찼습니다.\")\n",
    "        return\n",
    "    top+=1\n",
    "    stack[top]=data"
   ]
  },
  {
   "cell_type": "code",
   "execution_count": 3,
   "id": "c125aac1",
   "metadata": {},
   "outputs": [],
   "source": [
    "def push_noStackFull(data):\n",
    "    global SIZE, stack,top\n",
    "    if top>=SIZE-1:\n",
    "        print(\"스택이 꽉 찼습니다.\")\n",
    "        return\n",
    "    top+=1\n",
    "    stack[top]=data"
   ]
  },
  {
   "cell_type": "code",
   "execution_count": 4,
   "id": "391873a5",
   "metadata": {},
   "outputs": [],
   "source": [
    "def isStackEmpty():\n",
    "    global SIZE, stack,top\n",
    "    if (top== -1):\n",
    "        return True\n",
    "    else:\n",
    "        return False"
   ]
  },
  {
   "cell_type": "code",
   "execution_count": 5,
   "id": "0f62b4e6",
   "metadata": {},
   "outputs": [],
   "source": [
    "def pop():\n",
    "    global SIZE, stack,top\n",
    "    if (isStackEmpty()==True):\n",
    "        print(\"스택이 비었습니다.\")\n",
    "        return\n",
    "    data=stack[top]\n",
    "    stack[top]=None\n",
    "    top-=1\n",
    "    return data"
   ]
  },
  {
   "cell_type": "code",
   "execution_count": 6,
   "id": "71519dc0",
   "metadata": {},
   "outputs": [],
   "source": [
    "def pop():\n",
    "    global SIZE, stack,top\n",
    "    if (top== -1):\n",
    "        print(\"스택이 비었습니다.\")\n",
    "        return\n",
    "    data=stack[top]\n",
    "    stack[top]=None\n",
    "    top-=1\n",
    "    return data"
   ]
  },
  {
   "cell_type": "code",
   "execution_count": 7,
   "id": "4c22e02d",
   "metadata": {},
   "outputs": [],
   "source": [
    "def peak():\n",
    "    global SIZE, stack,top\n",
    "    if (top== -1):\n",
    "        print(\"스택이 비었습니다.\")\n",
    "        return None\n",
    "    return stack[top]"
   ]
  },
  {
   "cell_type": "code",
   "execution_count": 8,
   "id": "1ac5fd7f",
   "metadata": {},
   "outputs": [
    {
     "name": "stdout",
     "output_type": "stream",
     "text": [
      "stack의 크기를 입력하세요5\n"
     ]
    }
   ],
   "source": [
    "SIZE=int(input(\"stack의 크기를 입력하세요\"))\n",
    "stack=[None for _ in range(SIZE)]\n",
    "top=-1"
   ]
  },
  {
   "cell_type": "code",
   "execution_count": 10,
   "id": "d5ee88ab",
   "metadata": {},
   "outputs": [
    {
     "name": "stdout",
     "output_type": "stream",
     "text": [
      "삽입(I), 추출(E), 확인(V), 종료(X)I\n",
      "입력 데이터커피\n",
      "stack 상태 --> ['커피', None, None, None, None]\n",
      "삽입(I), 추출(E), 확인(V), 종료(X)I\n",
      "입력 데이터녹차\n",
      "stack 상태 --> ['커피', '녹차', None, None, None]\n",
      "삽입(I), 추출(E), 확인(V), 종료(X)I\n",
      "입력 데이터꿀물\n",
      "stack 상태 --> ['커피', '녹차', '꿀물', None, None]\n",
      "삽입(I), 추출(E), 확인(V), 종료(X)V\n",
      "확인된 데이터--> 꿀물\n",
      "stack 상태 --> ['커피', '녹차', '꿀물', None, None]\n",
      "삽입(I), 추출(E), 확인(V), 종료(X)E\n",
      "추출된 데이터--> 꿀물\n",
      "stack 상태 --> ['커피', '녹차', None, None, None]\n",
      "삽입(I), 추출(E), 확인(V), 종료(X)E\n",
      "추출된 데이터--> 녹차\n",
      "stack 상태 --> ['커피', None, None, None, None]\n",
      "삽입(I), 추출(E), 확인(V), 종료(X)E\n",
      "추출된 데이터--> 커피\n",
      "stack 상태 --> [None, None, None, None, None]\n",
      "삽입(I), 추출(E), 확인(V), 종료(X)E\n",
      "스택이 비었습니다.\n",
      "추출된 데이터--> None\n",
      "stack 상태 --> [None, None, None, None, None]\n",
      "삽입(I), 추출(E), 확인(V), 종료(X)X\n",
      "프로그램 종료\n"
     ]
    }
   ],
   "source": [
    "if __name__==\"__main__\":\n",
    "    select=input(\"삽입(I), 추출(E), 확인(V), 종료(X)\")\n",
    "    while (select!=\"X\"):\n",
    "        if select==\"I\":\n",
    "            data=input(\"입력 데이터\")\n",
    "            push(data)\n",
    "            print(\"stack 상태 -->\",stack)\n",
    "        elif select==\"E\":\n",
    "            retData=pop()\n",
    "            print(\"추출된 데이터-->\",retData)\n",
    "            print(\"stack 상태 -->\",stack)\n",
    "        elif select==\"V\":\n",
    "            retData=peak()\n",
    "            print(\"확인된 데이터-->\",retData)\n",
    "            print(\"stack 상태 -->\",stack)\n",
    "        else:\n",
    "            print(\"입력이 잘못됨\")\n",
    "        \n",
    "        select=input(\"삽입(I), 추출(E), 확인(V), 종료(X)\")\n",
    "    \n",
    "    print(\"프로그램 종료\")\n",
    "        "
   ]
  },
  {
   "cell_type": "markdown",
   "id": "323224fc",
   "metadata": {},
   "source": [
    "## 헨델과 그레텔"
   ]
  },
  {
   "cell_type": "code",
   "execution_count": 14,
   "id": "dfa79f79",
   "metadata": {},
   "outputs": [
    {
     "name": "stdout",
     "output_type": "stream",
     "text": [
      "stack의 크기를 입력하세요6\n"
     ]
    }
   ],
   "source": [
    "SIZE=int(input(\"stack의 크기를 입력하세요\"))\n",
    "stack=[None for _ in range(SIZE)]\n",
    "top=-1"
   ]
  },
  {
   "cell_type": "code",
   "execution_count": 15,
   "id": "353eb74b",
   "metadata": {},
   "outputs": [],
   "source": [
    "push(\"주황\")\n",
    "push(\"초록\")\n",
    "push(\"파랑\")\n",
    "push(\"보라\")\n",
    "push(\"빨강\")\n",
    "push(\"노랑\")"
   ]
  },
  {
   "cell_type": "code",
   "execution_count": 16,
   "id": "004b49dc",
   "metadata": {},
   "outputs": [
    {
     "name": "stdout",
     "output_type": "stream",
     "text": [
      "우리집에 오는길: 노랑 --> 빨강 --> 보라 --> 파랑 --> 초록 --> 주황 --> 우리집\n"
     ]
    }
   ],
   "source": [
    "print(\"우리집에 오는길:\",pop(),\"-->\",pop(),\"-->\",pop(),\"-->\",pop(),\"-->\",pop(),\"-->\",pop(),\"-->\",\"우리집\")"
   ]
  },
  {
   "cell_type": "markdown",
   "id": "1613c563",
   "metadata": {},
   "source": [
    "## 진달래꽃"
   ]
  },
  {
   "cell_type": "code",
   "execution_count": 26,
   "id": "5706ed3c",
   "metadata": {},
   "outputs": [
    {
     "name": "stdout",
     "output_type": "stream",
     "text": [
      "----원본----\n",
      "진달래꽃\n",
      "나 보기가 역겨워\n",
      "가실 때에는 \n",
      "말없이 고이 보내드리오리다\n"
     ]
    }
   ],
   "source": [
    "print(\"----원본----\")\n",
    "print(\"\"\"진달래꽃\n",
    "나 보기가 역겨워\n",
    "가실 때에는 \n",
    "말없이 고이 보내드리오리다.\"\"\")"
   ]
  },
  {
   "cell_type": "code",
   "execution_count": 33,
   "id": "a16c7832",
   "metadata": {},
   "outputs": [],
   "source": [
    "original=\"\"\"진달래꽃\n",
    "나 보기가 역겨워\n",
    "가실 때에는\n",
    "말없이 고이 보내드리오리다.\"\"\""
   ]
  },
  {
   "cell_type": "code",
   "execution_count": 34,
   "id": "df54ca4c",
   "metadata": {},
   "outputs": [],
   "source": [
    "SIZE=len(original)\n",
    "stack=[None for _ in range(SIZE)]\n",
    "top=-1\n",
    "for ch in original:\n",
    "    push(ch)"
   ]
  },
  {
   "cell_type": "code",
   "execution_count": 35,
   "id": "e997002e",
   "metadata": {},
   "outputs": [
    {
     "name": "stdout",
     "output_type": "stream",
     "text": [
      "거꾸로 처리된 결과:\n",
      ".다리오리드내보 이고 이없말\n",
      "는에때 실가\n",
      "워겨역 가기보 나\n",
      "꽃래달진"
     ]
    }
   ],
   "source": [
    "print(\"거꾸로 처리된 결과:\")\n",
    "for _ in range(SIZE):\n",
    "    print(pop(),end=\"\")"
   ]
  },
  {
   "cell_type": "code",
   "execution_count": null,
   "id": "38d26b8a",
   "metadata": {},
   "outputs": [],
   "source": []
  }
 ],
 "metadata": {
  "kernelspec": {
   "display_name": "Python 3 (ipykernel)",
   "language": "python",
   "name": "python3"
  },
  "language_info": {
   "codemirror_mode": {
    "name": "ipython",
    "version": 3
   },
   "file_extension": ".py",
   "mimetype": "text/x-python",
   "name": "python",
   "nbconvert_exporter": "python",
   "pygments_lexer": "ipython3",
   "version": "3.9.12"
  }
 },
 "nbformat": 4,
 "nbformat_minor": 5
}
