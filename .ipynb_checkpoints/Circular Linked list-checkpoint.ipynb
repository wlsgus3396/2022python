{
 "cells": [
  {
   "cell_type": "markdown",
   "id": "162b0fad",
   "metadata": {},
   "source": [
    "### Circular linked list"
   ]
  },
  {
   "cell_type": "code",
   "execution_count": 43,
   "id": "3f6993c7",
   "metadata": {},
   "outputs": [],
   "source": [
    "class Node():\n",
    "    def __init__(self):\n",
    "        self.data=None\n",
    "        self.link=None"
   ]
  },
  {
   "cell_type": "code",
   "execution_count": 44,
   "id": "13a884cd",
   "metadata": {},
   "outputs": [],
   "source": [
    "def printNodes(start):\n",
    "    current=start\n",
    "    if current==None:\n",
    "        return\n",
    "    print(current.data,end=\"\")\n",
    "    while current.link!=start:\n",
    "        current=current.link\n",
    "        print(current.data,end=\"\")\n",
    "    print()\n",
    "        "
   ]
  },
  {
   "cell_type": "code",
   "execution_count": 45,
   "id": "54fb75a5",
   "metadata": {},
   "outputs": [
    {
     "name": "stdout",
     "output_type": "stream",
     "text": [
      "('A', 72, 85)('B', 51, 15)('C', 62, 15)('D', 25, 6)('E', 98, 51)('F', 41, 66)('G', 28, 43)('H', 44, 4)('I', 79, 1)('J', 51, 35)"
     ]
    },
    {
     "ename": "AttributeError",
     "evalue": "'NoneType' object has no attribute 'data'",
     "output_type": "error",
     "traceback": [
      "\u001b[1;31m---------------------------------------------------------------------------\u001b[0m",
      "\u001b[1;31mAttributeError\u001b[0m                            Traceback (most recent call last)",
      "\u001b[1;32m<ipython-input-45-c9416c5b5648>\u001b[0m in \u001b[0;36m<module>\u001b[1;34m\u001b[0m\n\u001b[0;32m     11\u001b[0m         \u001b[0mmemory\u001b[0m\u001b[1;33m.\u001b[0m\u001b[0mappend\u001b[0m\u001b[1;33m(\u001b[0m\u001b[0mnode\u001b[0m\u001b[1;33m)\u001b[0m\u001b[1;33m\u001b[0m\u001b[1;33m\u001b[0m\u001b[0m\n\u001b[0;32m     12\u001b[0m \u001b[1;33m\u001b[0m\u001b[0m\n\u001b[1;32m---> 13\u001b[1;33m     \u001b[0mprintNodes\u001b[0m\u001b[1;33m(\u001b[0m\u001b[0mhead\u001b[0m\u001b[1;33m)\u001b[0m\u001b[1;33m\u001b[0m\u001b[1;33m\u001b[0m\u001b[0m\n\u001b[0m\u001b[0;32m     14\u001b[0m \u001b[1;33m\u001b[0m\u001b[0m\n",
      "\u001b[1;32m<ipython-input-44-fa2bb3249e71>\u001b[0m in \u001b[0;36mprintNodes\u001b[1;34m(start)\u001b[0m\n\u001b[0;32m      6\u001b[0m     \u001b[1;32mwhile\u001b[0m \u001b[0mcurrent\u001b[0m\u001b[1;33m.\u001b[0m\u001b[0mlink\u001b[0m\u001b[1;33m!=\u001b[0m\u001b[0mstart\u001b[0m\u001b[1;33m:\u001b[0m\u001b[1;33m\u001b[0m\u001b[1;33m\u001b[0m\u001b[0m\n\u001b[0;32m      7\u001b[0m         \u001b[0mcurrent\u001b[0m\u001b[1;33m=\u001b[0m\u001b[0mcurrent\u001b[0m\u001b[1;33m.\u001b[0m\u001b[0mlink\u001b[0m\u001b[1;33m\u001b[0m\u001b[1;33m\u001b[0m\u001b[0m\n\u001b[1;32m----> 8\u001b[1;33m         \u001b[0mprint\u001b[0m\u001b[1;33m(\u001b[0m\u001b[0mcurrent\u001b[0m\u001b[1;33m.\u001b[0m\u001b[0mdata\u001b[0m\u001b[1;33m,\u001b[0m\u001b[0mend\u001b[0m\u001b[1;33m=\u001b[0m\u001b[1;34m\"\"\u001b[0m\u001b[1;33m)\u001b[0m\u001b[1;33m\u001b[0m\u001b[1;33m\u001b[0m\u001b[0m\n\u001b[0m\u001b[0;32m      9\u001b[0m     \u001b[0mprint\u001b[0m\u001b[1;33m(\u001b[0m\u001b[1;33m)\u001b[0m\u001b[1;33m\u001b[0m\u001b[1;33m\u001b[0m\u001b[0m\n\u001b[0;32m     10\u001b[0m \u001b[1;33m\u001b[0m\u001b[0m\n",
      "\u001b[1;31mAttributeError\u001b[0m: 'NoneType' object has no attribute 'data'"
     ]
    }
   ],
   "source": [
    "if __name__==\"__main__\":\n",
    "    node=Node()\n",
    "    node.data=dataArray[0]\n",
    "    head=node\n",
    "    memory.append(node)\n",
    "    for data in dataArray[1:]:\n",
    "        pre=node\n",
    "        node=Node()\n",
    "        node.data=data\n",
    "        pre.link=node\n",
    "        memory.append(node)\n",
    "        \n",
    "    printNodes(head)\n",
    "        "
   ]
  },
  {
   "cell_type": "code",
   "execution_count": 46,
   "id": "55a5e0bc",
   "metadata": {},
   "outputs": [],
   "source": [
    "def insertNode(findData,insertData):\n",
    "    global memory,head,current,pre\n",
    "    if head.data==findData:\n",
    "        node=Node()\n",
    "        node.data=insertData\n",
    "        node.link=head\n",
    "        last=head\n",
    "        while last.link!=head:\n",
    "            last=last.link\n",
    "        last.link=node\n",
    "        head=node\n",
    "        return\n",
    "    \n",
    "    current=head\n",
    "    while current.link!=head:\n",
    "        pre=current\n",
    "        current=current.link\n",
    "        if current.data==findData:\n",
    "            node=Node()\n",
    "            node.data=insertData\n",
    "            pre.link=node\n",
    "            node.link=current\n",
    "            return\n",
    "        \n",
    "    node=Node()\n",
    "    node.data=insertData\n",
    "    current.link=node\n",
    "    node.link=head"
   ]
  },
  {
   "cell_type": "code",
   "execution_count": 47,
   "id": "e9a44d45",
   "metadata": {},
   "outputs": [],
   "source": [
    "def deleteNode(deleteData):\n",
    "    global memory,head,current,pre\n",
    "    if head.data==deleteData:\n",
    "        current=head\n",
    "        head=head.link\n",
    "        del(current)\n",
    "        last=head\n",
    "        while last.link!=head:\n",
    "            last=last.link\n",
    "        last.link=head\n",
    "        return\n",
    "    current=head\n",
    "    while current.link!=head:\n",
    "        pre=current\n",
    "        current=current.link\n",
    "        if current.data==deleteData:\n",
    "            pre.link=current.link\n",
    "            del(current)\n",
    "            return"
   ]
  },
  {
   "cell_type": "code",
   "execution_count": 48,
   "id": "8afef1da",
   "metadata": {},
   "outputs": [],
   "source": [
    "def findNode(findData):\n",
    "    global memory, head, current, pre\n",
    "    current=head\n",
    "    if current.data==findData:\n",
    "        return current\n",
    "    while current.link!=head:\n",
    "        current=current.link\n",
    "        if current.data==findData:\n",
    "            return current\n",
    "    return Node()\n",
    "    "
   ]
  },
  {
   "cell_type": "code",
   "execution_count": 53,
   "id": "1038b527",
   "metadata": {},
   "outputs": [
    {
     "name": "stdout",
     "output_type": "stream",
     "text": [
      "F 편의점, 거리:41.773197\n",
      "D 편의점, 거리:42.047592\n",
      "I 편의점, 거리:53.075418\n",
      "G 편의점, 거리:56.727418\n",
      "C 편의점, 거리:59.413803\n",
      "A 편의점, 거리:73.783467\n",
      "J 편의점, 거리:75.504967\n",
      "B 편의점, 거리:81.024688\n",
      "E 편의점, 거리:83.773504\n",
      "H 편의점, 거리:104.388697\n"
     ]
    }
   ],
   "source": [
    "import random, math\n",
    "memory=[]\n",
    "dataArray=[_ for i in range(10)]\n",
    "dataArray[0]=(\"A\",random.randint(1,100),random.randint(1,100))\n",
    "dataArray[1]=(\"B\",random.randint(1,100),random.randint(1,100))\n",
    "dataArray[2]=(\"C\",random.randint(1,100),random.randint(1,100))\n",
    "dataArray[3]=(\"D\",random.randint(1,100),random.randint(1,100))\n",
    "dataArray[4]=(\"E\",random.randint(1,100),random.randint(1,100))\n",
    "dataArray[5]=(\"F\",random.randint(1,100),random.randint(1,100))\n",
    "dataArray[6]=(\"G\",random.randint(1,100),random.randint(1,100))\n",
    "dataArray[7]=(\"H\",random.randint(1,100),random.randint(1,100))\n",
    "dataArray[8]=(\"I\",random.randint(1,100),random.randint(1,100))\n",
    "dataArray[9]=(\"J\",random.randint(1,100),random.randint(1,100))\n",
    "\n",
    "if __name__==\"__main__\":\n",
    "    def store(data,head):\n",
    "        node=Node()\n",
    "        node.data=data\n",
    "        if math.sqrt(head.data[1]**2+head.data[2]**2)>math.sqrt(data[1]**2+data[2]**2):\n",
    "            node.link=head\n",
    "            last=head\n",
    "            while last.link!=head:\n",
    "                last=last.link\n",
    "            last.link=node\n",
    "            head=node\n",
    "            return head\n",
    "        current=head\n",
    "        while current.link!=head:\n",
    "            pre=current\n",
    "            current=current.link\n",
    "            if math.sqrt(current.data[1]**2+current.data[2]**2)>math.sqrt(data[1]**2+data[2]**2):\n",
    "                node.link=current\n",
    "                pre.link=node\n",
    "                return head\n",
    "        current.link=node\n",
    "        node.link=head\n",
    "        return head\n",
    "\n",
    "head=Node()\n",
    "head.data=dataArray[0]\n",
    "head.link=head\n",
    "for i in range(1,10):\n",
    "    head=store(dataArray[i],head)\n",
    "current=head\n",
    "while current.link!=head:\n",
    "    print(\"%s 편의점, 거리:%f\"%(current.data[0],math.sqrt(current.data[1]**2+current.data[2]**2)))\n",
    "    current=current.link\n",
    "print(\"%s 편의점, 거리:%f\"%(current.data[0],math.sqrt(current.data[1]**2+current.data[2]**2)))"
   ]
  },
  {
   "cell_type": "code",
   "execution_count": 64,
   "id": "b89c4faf",
   "metadata": {},
   "outputs": [
    {
     "name": "stdout",
     "output_type": "stream",
     "text": [
      "H 편의점, 거리:55.326305\n",
      "E 편의점, 거리:59.539903\n",
      "G 편의점, 거리:64.350602\n",
      "F 편의점, 거리:67.186308\n",
      "J 편의점, 거리:72.422372\n",
      "B 편의점, 거리:92.698436\n",
      "A 편의점, 거리:98.478424\n",
      "C 편의점, 거리:101.434708\n",
      "I 편의점, 거리:102.615788\n",
      "D 편의점, 거리:125.992063\n"
     ]
    }
   ],
   "source": [
    "import random, math\n",
    "memory=[]\n",
    "dataArray=[_ for i in range(10)]\n",
    "dataArray[0]=(\"A\",random.randint(1,100),random.randint(1,100))\n",
    "dataArray[1]=(\"B\",random.randint(1,100),random.randint(1,100))\n",
    "dataArray[2]=(\"C\",random.randint(1,100),random.randint(1,100))\n",
    "dataArray[3]=(\"D\",random.randint(1,100),random.randint(1,100))\n",
    "dataArray[4]=(\"E\",random.randint(1,100),random.randint(1,100))\n",
    "dataArray[5]=(\"F\",random.randint(1,100),random.randint(1,100))\n",
    "dataArray[6]=(\"G\",random.randint(1,100),random.randint(1,100))\n",
    "dataArray[7]=(\"H\",random.randint(1,100),random.randint(1,100))\n",
    "dataArray[8]=(\"I\",random.randint(1,100),random.randint(1,100))\n",
    "dataArray[9]=(\"J\",random.randint(1,100),random.randint(1,100))\n",
    "\n",
    "if __name__==\"__main__\":\n",
    "    node=Node()\n",
    "    node.data=dataArray[0]\n",
    "    head=node\n",
    "    node.link=head\n",
    "    for data in dataArray[1:]:\n",
    "        node=Node()\n",
    "        node.data=data\n",
    "        if math.sqrt(head.data[1]**2+head.data[2]**2)>math.sqrt(data[1]**2+data[2]**2):\n",
    "            node.link=head\n",
    "            last=head\n",
    "            while last.link!=head:\n",
    "                last=last.link\n",
    "            last.link=node\n",
    "            head=node\n",
    "        else:\n",
    "            current=head\n",
    "            while current.link!=head:\n",
    "                pre=current\n",
    "                current=current.link\n",
    "                if math.sqrt(current.data[1]**2+current.data[2]**2)>math.sqrt(data[1]**2+data[2]**2):\n",
    "                    node.link=current\n",
    "                    pre.link=node\n",
    "                    break\n",
    "            if current.link==head and node.link==None:\n",
    "                current.link=node\n",
    "                node.link=head\n",
    "\n",
    "    current=head\n",
    "    while current.link!=head:\n",
    "        print(\"%s 편의점, 거리:%f\"%(current.data[0],math.sqrt(current.data[1]**2+current.data[2]**2)))\n",
    "        current=current.link\n",
    "    print(\"%s 편의점, 거리:%f\"%(current.data[0],math.sqrt(current.data[1]**2+current.data[2]**2)))"
   ]
  },
  {
   "cell_type": "code",
   "execution_count": null,
   "id": "49a37904",
   "metadata": {},
   "outputs": [],
   "source": []
  }
 ],
 "metadata": {
  "kernelspec": {
   "display_name": "Python 3",
   "language": "python",
   "name": "python3"
  },
  "language_info": {
   "codemirror_mode": {
    "name": "ipython",
    "version": 3
   },
   "file_extension": ".py",
   "mimetype": "text/x-python",
   "name": "python",
   "nbconvert_exporter": "python",
   "pygments_lexer": "ipython3",
   "version": "3.8.8"
  }
 },
 "nbformat": 4,
 "nbformat_minor": 5
}
