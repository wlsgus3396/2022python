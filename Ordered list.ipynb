{
 "cells": [
  {
   "cell_type": "markdown",
   "id": "92083d98",
   "metadata": {},
   "source": [
    "#  선형 리스트"
   ]
  },
  {
   "cell_type": "markdown",
   "id": "7aec6b2d",
   "metadata": {},
   "source": [
    "# 트와이스 예시"
   ]
  },
  {
   "cell_type": "code",
   "execution_count": 3,
   "id": "82736f8b",
   "metadata": {},
   "outputs": [
    {
     "name": "stdout",
     "output_type": "stream",
     "text": [
      "['다현', '정연', '쯔위', '사나', '지효', '모모']\n"
     ]
    }
   ],
   "source": [
    "katok=[\"다현\",\"정연\",\"쯔위\",\"사나\",\"지효\"]\n",
    "katok.append(None)\n",
    "katok[5]=\"모모\"\n",
    "print(katok)"
   ]
  },
  {
   "cell_type": "markdown",
   "id": "9c083ce5",
   "metadata": {},
   "source": [
    "### 데이터 중간 추가"
   ]
  },
  {
   "cell_type": "code",
   "execution_count": 4,
   "id": "000e568f",
   "metadata": {},
   "outputs": [
    {
     "name": "stdout",
     "output_type": "stream",
     "text": [
      "['다현', '정연', '쯔위', None, '사나', '지효', '모모']\n"
     ]
    }
   ],
   "source": [
    "katok.append(None)\n",
    "katok[6]=katok[5]\n",
    "katok[5]=None\n",
    "katok[5]=katok[4]\n",
    "katok[4]=None\n",
    "katok[4]=katok[3]\n",
    "katok[3]=None\n",
    "print(katok)"
   ]
  },
  {
   "cell_type": "code",
   "execution_count": 5,
   "id": "18c3c9bc",
   "metadata": {},
   "outputs": [
    {
     "name": "stdout",
     "output_type": "stream",
     "text": [
      "['다현', '정연', '쯔위', '미나', '사나', '지효', '모모']\n"
     ]
    }
   ],
   "source": [
    "katok[3]=\"미나\"\n",
    "print(katok)"
   ]
  },
  {
   "cell_type": "markdown",
   "id": "a2fa44bc",
   "metadata": {},
   "source": [
    "### 데이터 중간 삭제"
   ]
  },
  {
   "cell_type": "code",
   "execution_count": 6,
   "id": "4934eb9c",
   "metadata": {},
   "outputs": [
    {
     "name": "stdout",
     "output_type": "stream",
     "text": [
      "['다현', '정연', '쯔위', '미나', '지효', '모모']\n"
     ]
    }
   ],
   "source": [
    "katok[4]=None\n",
    "katok[4]=katok[5]\n",
    "katok[5]=None\n",
    "katok[5]=katok[6]\n",
    "katok[6]=None\n",
    "del(katok[6])\n",
    "print(katok)"
   ]
  },
  {
   "cell_type": "markdown",
   "id": "dfce13f0",
   "metadata": {},
   "source": [
    "### 배열을 이용한 선형 리스트 생성 함수"
   ]
  },
  {
   "cell_type": "code",
   "execution_count": 30,
   "id": "0e6054ac",
   "metadata": {},
   "outputs": [
    {
     "name": "stdout",
     "output_type": "stream",
     "text": [
      "['다현', '정연', '쯔위', '사나', '지효']\n"
     ]
    }
   ],
   "source": [
    "katok=[]\n",
    "def add_data(friend):\n",
    "    katok.append(None)\n",
    "    kLen=len(katok)\n",
    "    katok[kLen-1]=friend\n",
    "    \n",
    "add_data(\"다현\")\n",
    "add_data(\"정연\")\n",
    "add_data(\"쯔위\")\n",
    "add_data(\"사나\")\n",
    "add_data(\"지효\")\n",
    "print(katok)"
   ]
  },
  {
   "cell_type": "markdown",
   "id": "e264fadd",
   "metadata": {},
   "source": [
    "### 데이터 중간 삽입"
   ]
  },
  {
   "cell_type": "code",
   "execution_count": 31,
   "id": "9ac043fc",
   "metadata": {},
   "outputs": [],
   "source": [
    "def insert_data(position,friend):\n",
    "    if position<0 or position>len(katok):\n",
    "        print(\"데이터를 삽입할 범위를 벗어났습니다\")\n",
    "        return\n",
    "    \n",
    "    \n",
    "    katok.append(None)\n",
    "    kLen=len(katok)\n",
    "    for i in range(kLen-1,position,-1):\n",
    "        katok[i]=katok[i-1]\n",
    "        katok[i-1]=None\n",
    "    \n",
    "    katok[position]=friend"
   ]
  },
  {
   "cell_type": "code",
   "execution_count": 32,
   "id": "6e3d1b7a",
   "metadata": {},
   "outputs": [
    {
     "name": "stdout",
     "output_type": "stream",
     "text": [
      "['다현', '정연', '솔라', '쯔위', '사나', '지효']\n"
     ]
    }
   ],
   "source": [
    "insert_data(2,\"솔라\")\n",
    "print(katok)"
   ]
  },
  {
   "cell_type": "code",
   "execution_count": 33,
   "id": "b97565bb",
   "metadata": {},
   "outputs": [
    {
     "name": "stdout",
     "output_type": "stream",
     "text": [
      "['다현', '정연', '솔라', '쯔위', '사나', '지효', '문별']\n"
     ]
    }
   ],
   "source": [
    "insert_data(6,\"문별\")\n",
    "print(katok)"
   ]
  },
  {
   "cell_type": "markdown",
   "id": "8024066d",
   "metadata": {},
   "source": [
    "### 데이터 중간 삭제"
   ]
  },
  {
   "cell_type": "code",
   "execution_count": 34,
   "id": "3e4e9512",
   "metadata": {},
   "outputs": [
    {
     "name": "stdout",
     "output_type": "stream",
     "text": [
      "['다현', '정연', '쯔위', '사나', '지효']\n"
     ]
    }
   ],
   "source": [
    "katok=[]\n",
    "def add_data(friend):\n",
    "    katok.append(None)\n",
    "    kLen=len(katok)\n",
    "    katok[kLen-1]=friend\n",
    "    \n",
    "add_data(\"다현\")\n",
    "add_data(\"정연\")\n",
    "add_data(\"쯔위\")\n",
    "add_data(\"사나\")\n",
    "add_data(\"지효\")\n",
    "print(katok)"
   ]
  },
  {
   "cell_type": "code",
   "execution_count": 35,
   "id": "bbbaa6d0",
   "metadata": {},
   "outputs": [],
   "source": [
    "def delete_data(position):\n",
    "    if position<0 or position>len(katok)-1:\n",
    "        print(\"데이터를 삭제할 범위를 벗어났습니다\")\n",
    "        return\n",
    "    \n",
    "    kLen=len(katok)\n",
    "    katok[position]=None\n",
    "    for i in range(position+1,kLen):\n",
    "        katok[i-1]=katok[i]\n",
    "        katok[i]=None\n",
    "        \n",
    "    del(katok[kLen-1])"
   ]
  },
  {
   "cell_type": "code",
   "execution_count": 36,
   "id": "48b4e9a3",
   "metadata": {},
   "outputs": [
    {
     "name": "stdout",
     "output_type": "stream",
     "text": [
      "['다현', '쯔위', '사나', '지효']\n"
     ]
    }
   ],
   "source": [
    "delete_data(1)\n",
    "print(katok)"
   ]
  },
  {
   "cell_type": "code",
   "execution_count": 37,
   "id": "dc6bd766",
   "metadata": {},
   "outputs": [
    {
     "name": "stdout",
     "output_type": "stream",
     "text": [
      "['다현', '쯔위', '사나']\n"
     ]
    }
   ],
   "source": [
    "delete_data(3)\n",
    "print(katok)"
   ]
  },
  {
   "cell_type": "markdown",
   "id": "498b5590",
   "metadata": {},
   "source": [
    "### 기본 선형 리스트의 완성"
   ]
  },
  {
   "cell_type": "code",
   "execution_count": 41,
   "id": "67a1b05f",
   "metadata": {},
   "outputs": [],
   "source": [
    "katok=[]\n",
    "select=-1"
   ]
  },
  {
   "cell_type": "code",
   "execution_count": 42,
   "id": "9c9e6cb1",
   "metadata": {},
   "outputs": [
    {
     "name": "stdout",
     "output_type": "stream",
     "text": [
      "선택하세요(1: 추가, 2: 삽입, 3: 삭제, 4:종료)--> 1\n",
      "추가할 데이터-->다현\n",
      "['다현']\n",
      "선택하세요(1: 추가, 2: 삽입, 3: 삭제, 4:종료)--> 1\n",
      "추가할 데이터-->정연\n",
      "['다현', '정연']\n",
      "선택하세요(1: 추가, 2: 삽입, 3: 삭제, 4:종료)--> 1\n",
      "추가할 데이터-->쯔위\n",
      "['다현', '정연', '쯔위']\n",
      "선택하세요(1: 추가, 2: 삽입, 3: 삭제, 4:종료)--> 2\n",
      "삽입할 위치-->1\n",
      "삽입할 데이터-->하나\n",
      "['다현', '하나', '정연', '쯔위']\n",
      "선택하세요(1: 추가, 2: 삽입, 3: 삭제, 4:종료)--> 2\n",
      "삽입할 위치-->0\n",
      "삽입할 데이터-->문별\n",
      "['문별', '다현', '하나', '정연', '쯔위']\n",
      "선택하세요(1: 추가, 2: 삽입, 3: 삭제, 4:종료)--> 3\n",
      "삭제할 위치-->3\n",
      "['문별', '다현', '하나', '쯔위']\n",
      "선택하세요(1: 추가, 2: 삽입, 3: 삭제, 4:종료)--> 4\n",
      "['문별', '다현', '하나', '쯔위']\n"
     ]
    }
   ],
   "source": [
    "if __name__==\"__main__\":\n",
    "    while (select!=4):\n",
    "        select=int(input(\"선택하세요(1: 추가, 2: 삽입, 3: 삭제, 4:종료)--> \"))\n",
    "        if select==1:\n",
    "            data=input(\"추가할 데이터-->\")\n",
    "            add_data(data)\n",
    "            print(katok)\n",
    "        elif select==2:\n",
    "            pos=int(input(\"삽입할 위치-->\"))\n",
    "            data=input(\"삽입할 데이터-->\")\n",
    "            insert_data(pos,data)\n",
    "            print(katok)\n",
    "        elif select==3:\n",
    "            pos=int(input(\"삭제할 위치-->\"))\n",
    "            delete_data(pos)\n",
    "            print(katok)\n",
    "        elif select==4:\n",
    "            print(katok)\n",
    "        else:\n",
    "            print(\"1~4 중 하나를 입력하세요\")\n",
    "        "
   ]
  },
  {
   "cell_type": "markdown",
   "id": "9364f483",
   "metadata": {},
   "source": [
    "## Polynomial example"
   ]
  },
  {
   "cell_type": "code",
   "execution_count": 48,
   "id": "3df78041",
   "metadata": {},
   "outputs": [],
   "source": [
    "def printpoly(p_x):\n",
    "    term=len(p_x)-1\n",
    "    polyStr=\"P(x)=\"\n",
    "    for i in range(len(p_x)):\n",
    "        coef=p_x[i]\n",
    "        if coef>0:\n",
    "            polyStr=polyStr+\"+\"+str(coef)+\"x^\"+str(term)+\"\"\n",
    "        elif coef<0:\n",
    "            polyStr=polyStr+str(coef)+\"x^\"+str(term)+\"\"\n",
    "        term-=1\n",
    "        \n",
    "    return polyStr\n",
    "            "
   ]
  },
  {
   "cell_type": "code",
   "execution_count": 49,
   "id": "e3d63e30",
   "metadata": {},
   "outputs": [
    {
     "data": {
      "text/plain": [
       "'P(x)=+7x^3-4x^2+5x^0'"
      ]
     },
     "execution_count": 49,
     "metadata": {},
     "output_type": "execute_result"
    }
   ],
   "source": [
    "p_x=[7,-4,0,5]\n",
    "printpoly(p_x)"
   ]
  },
  {
   "cell_type": "code",
   "execution_count": 50,
   "id": "cf3b1d00",
   "metadata": {},
   "outputs": [],
   "source": [
    "def calcPoly(xVal,p_x):\n",
    "    retVal=0\n",
    "    term=len(p_x)-1\n",
    "    for i in range(len(p_x)):\n",
    "        coef=p_x[i]\n",
    "        retVal+=coef*xVal**term\n",
    "        term-=1\n",
    "    return retVal"
   ]
  },
  {
   "cell_type": "code",
   "execution_count": 51,
   "id": "a9e7a2ea",
   "metadata": {},
   "outputs": [
    {
     "name": "stdout",
     "output_type": "stream",
     "text": [
      "P(x)=+7x^3-4x^2+5x^0\n"
     ]
    }
   ],
   "source": [
    "pStr=printpoly(p_x)\n",
    "print(pStr)"
   ]
  },
  {
   "cell_type": "code",
   "execution_count": 52,
   "id": "d4616e0f",
   "metadata": {},
   "outputs": [
    {
     "name": "stdout",
     "output_type": "stream",
     "text": [
      "x값-->2\n",
      "45\n"
     ]
    }
   ],
   "source": [
    "xValue=int(input(\"x값-->\"))\n",
    "pxValue=calcPoly(xValue,p_x)\n",
    "print(pxValue)"
   ]
  },
  {
   "cell_type": "markdown",
   "id": "dd6069f5",
   "metadata": {},
   "source": [
    "## HW 1-solution1"
   ]
  },
  {
   "cell_type": "code",
   "execution_count": 54,
   "id": "da6b6075",
   "metadata": {},
   "outputs": [],
   "source": [
    "katok=[]"
   ]
  },
  {
   "cell_type": "code",
   "execution_count": 55,
   "id": "d168356e",
   "metadata": {},
   "outputs": [],
   "source": [
    "def delete_data(position):\n",
    "    if position<0 or position>len(katok)-1:\n",
    "        print(\"데이터를 삭제할 범위를 벗어났습니다\")\n",
    "        return\n",
    "    \n",
    "    kLen=len(katok)\n",
    "    katok[position]=None\n",
    "    for i in range(position+1,kLen):\n",
    "        katok[i-1]=katok[i]\n",
    "        katok[i]=None\n",
    "        \n",
    "    del(katok[kLen-1])"
   ]
  },
  {
   "cell_type": "code",
   "execution_count": 56,
   "id": "45e7a0db",
   "metadata": {},
   "outputs": [],
   "source": [
    "def make_tuple(str):\n",
    "    friend=\"\"\n",
    "    number=\"\"\n",
    "    for c in str:\n",
    "        if c!=\"(\"and c!=\"'\" and c!=\"''\" and c!=\"\"\" and c!=\"\"\" and c!=\",\" and c!=\")\" :\n",
    "            if c.isalpha():\n",
    "                friend+=c\n",
    "            else:\n",
    "                number+=c\n",
    "        elif c==\")\":\n",
    "            return (friend,int(number))\n",
    "        \n",
    "            "
   ]
  },
  {
   "cell_type": "code",
   "execution_count": 57,
   "id": "76f74acf",
   "metadata": {},
   "outputs": [],
   "source": [
    "def save_friend():\n",
    "    friend,freq=make_tuple(input(\"추가할 데이터-->\"))\n",
    "    lenK=len(katok)\n",
    "    if lenK==0:\n",
    "        katok.append((friend,freq))\n",
    "        return\n",
    "    for i in range(lenK):\n",
    "        if freq>=katok[i][1]:\n",
    "            katok.append(None)\n",
    "            for j in range(lenK,i,-1):\n",
    "                katok[j]=katok[j-1]\n",
    "                katok[j-1]=None\n",
    "            katok[i]=(friend,freq)\n",
    "            return\n",
    "    if i==lenK-1:\n",
    "        katok.append(None)\n",
    "        katok[lenK]=(friend,freq)\n",
    "        return\n",
    "\n",
    "        \n",
    "    "
   ]
  },
  {
   "cell_type": "code",
   "execution_count": 58,
   "id": "2353bb01",
   "metadata": {},
   "outputs": [
    {
     "name": "stdout",
     "output_type": "stream",
     "text": [
      "선택하세요(1: 추가, 2: 삽입, 3: 삭제)--> 1\n",
      "추가할 데이터-->('다현',200)\n",
      "[('다현', 200)]\n",
      "선택하세요(1: 추가, 2: 삽입, 3: 삭제)--> 1\n",
      "추가할 데이터-->('정연',150)\n",
      "[('다현', 200), ('정연', 150)]\n",
      "선택하세요(1: 추가, 2: 삽입, 3: 삭제)--> 1\n",
      "추가할 데이터-->('모모',170)\n",
      "[('다현', 200), ('모모', 170), ('정연', 150)]\n",
      "선택하세요(1: 추가, 2: 삽입, 3: 삭제)--> 2\n",
      "삭제할 위치-->2\n",
      "[('다현', 200), ('모모', 170)]\n",
      "선택하세요(1: 추가, 2: 삽입, 3: 삭제)--> 2\n",
      "삭제할 위치-->3\n",
      "데이터를 삭제할 범위를 벗어났습니다\n",
      "[('다현', 200), ('모모', 170)]\n",
      "선택하세요(1: 추가, 2: 삽입, 3: 삭제)--> 3\n",
      "[('다현', 200), ('모모', 170)]\n"
     ]
    }
   ],
   "source": [
    "select=-1\n",
    "if __name__==\"__main__\":\n",
    "    while (select!=3):\n",
    "        select=int(input(\"선택하세요(1: 추가, 2: 삽입, 3: 삭제)--> \"))\n",
    "        if select==1:\n",
    "            save_friend()\n",
    "            print(katok)\n",
    "        elif select==2:\n",
    "            pos=int(input(\"삭제할 위치-->\"))\n",
    "            delete_data(pos)\n",
    "            print(katok)\n",
    "        elif select==3:\n",
    "            print(katok)\n",
    "        else:\n",
    "            print(\"1~3 중 하나를 입력하세요\")\n",
    "        \n",
    "        "
   ]
  },
  {
   "cell_type": "markdown",
   "id": "dadcf8b7",
   "metadata": {},
   "source": [
    "## HW 1-solution2"
   ]
  },
  {
   "cell_type": "code",
   "execution_count": 59,
   "id": "8ba9a8da",
   "metadata": {},
   "outputs": [],
   "source": [
    "katok=[]"
   ]
  },
  {
   "cell_type": "code",
   "execution_count": 60,
   "id": "6c0bbcb8",
   "metadata": {},
   "outputs": [],
   "source": [
    "def save_friend():\n",
    "    friend=eval(input(\"추가할 데이터-->\"))\n",
    "    lenK=len(katok)\n",
    "    if lenK==0:\n",
    "        katok.append(friend)\n",
    "        return\n",
    "    for i in range(lenK):\n",
    "        if friend[1]>=katok[i][1]:\n",
    "            katok.append(None)\n",
    "            for j in range(lenK,i,-1):\n",
    "                katok[j]=katok[j-1]\n",
    "                katok[j-1]=None\n",
    "            katok[i]=friend\n",
    "            return\n",
    "    if i==lenK-1:\n",
    "        katok.append(None)\n",
    "        katok[lenK]=friend\n",
    "        return"
   ]
  },
  {
   "cell_type": "code",
   "execution_count": 61,
   "id": "48e56591",
   "metadata": {},
   "outputs": [
    {
     "name": "stdout",
     "output_type": "stream",
     "text": [
      "선택하세요(1: 추가, 2: 삽입, 3: 삭제)--> 1\n",
      "추가할 데이터-->('다현',200)\n",
      "[('다현', 200)]\n",
      "선택하세요(1: 추가, 2: 삽입, 3: 삭제)--> 1\n",
      "추가할 데이터-->('정연',150)\n",
      "[('다현', 200), ('정연', 150)]\n",
      "선택하세요(1: 추가, 2: 삽입, 3: 삭제)--> 1\n",
      "추가할 데이터-->('모모',170)\n",
      "[('다현', 200), ('모모', 170), ('정연', 150)]\n",
      "선택하세요(1: 추가, 2: 삽입, 3: 삭제)--> 2\n",
      "삭제할 위치-->2\n",
      "[('다현', 200), ('모모', 170)]\n",
      "선택하세요(1: 추가, 2: 삽입, 3: 삭제)--> 2\n",
      "삭제할 위치-->3\n",
      "데이터를 삭제할 범위를 벗어났습니다\n",
      "[('다현', 200), ('모모', 170)]\n",
      "선택하세요(1: 추가, 2: 삽입, 3: 삭제)--> 3\n",
      "[('다현', 200), ('모모', 170)]\n"
     ]
    }
   ],
   "source": [
    "select=-1\n",
    "if __name__==\"__main__\":\n",
    "    while (select!=3):\n",
    "        select=int(input(\"선택하세요(1: 추가, 2: 삽입, 3: 삭제)--> \"))\n",
    "        if select==1:\n",
    "            save_friend()\n",
    "            print(katok)\n",
    "        elif select==2:\n",
    "            pos=int(input(\"삭제할 위치-->\"))\n",
    "            delete_data(pos)\n",
    "            print(katok)\n",
    "        elif select==3:\n",
    "            print(katok)\n",
    "        else:\n",
    "            print(\"1~3 중 하나를 입력하세요\")\n",
    "        \n",
    "        "
   ]
  },
  {
   "cell_type": "code",
   "execution_count": null,
   "id": "129572d7",
   "metadata": {},
   "outputs": [],
   "source": []
  }
 ],
 "metadata": {
  "kernelspec": {
   "display_name": "Python 3 (ipykernel)",
   "language": "python",
   "name": "python3"
  },
  "language_info": {
   "codemirror_mode": {
    "name": "ipython",
    "version": 3
   },
   "file_extension": ".py",
   "mimetype": "text/x-python",
   "name": "python",
   "nbconvert_exporter": "python",
   "pygments_lexer": "ipython3",
   "version": "3.9.12"
  }
 },
 "nbformat": 4,
 "nbformat_minor": 5
}
