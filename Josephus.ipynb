{
 "cells": [
  {
   "cell_type": "code",
   "execution_count": 24,
   "id": "8dda8d16",
   "metadata": {},
   "outputs": [],
   "source": [
    "def Josephus():\n",
    "    N=int(input())\n",
    "    K=int(input())\n",
    "    L=list(range(N))\n",
    "    L[0]=N\n",
    "    J=[]\n",
    "    current=0\n",
    "    while len(J)!=N:\n",
    "        add=0\n",
    "        while add!=K:\n",
    "            current+=1\n",
    "            current=current%N\n",
    "            if L[current]!=None:\n",
    "                add+=1\n",
    "        J.append(L[current])\n",
    "        L[current]=None\n",
    "    print(J)"
   ]
  },
  {
   "cell_type": "code",
   "execution_count": 25,
   "id": "c5d1737f",
   "metadata": {},
   "outputs": [
    {
     "name": "stdout",
     "output_type": "stream",
     "text": [
      "7\n",
      "3\n",
      "[3, 6, 2, 7, 5, 1, 4]\n"
     ]
    }
   ],
   "source": [
    "Josephus()"
   ]
  },
  {
   "cell_type": "code",
   "execution_count": null,
   "id": "de7ce0dd",
   "metadata": {},
   "outputs": [],
   "source": []
  }
 ],
 "metadata": {
  "kernelspec": {
   "display_name": "Python 3",
   "language": "python",
   "name": "python3"
  },
  "language_info": {
   "codemirror_mode": {
    "name": "ipython",
    "version": 3
   },
   "file_extension": ".py",
   "mimetype": "text/x-python",
   "name": "python",
   "nbconvert_exporter": "python",
   "pygments_lexer": "ipython3",
   "version": "3.8.8"
  }
 },
 "nbformat": 4,
 "nbformat_minor": 5
}
