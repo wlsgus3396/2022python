{
 "cells": [
  {
   "cell_type": "code",
   "execution_count": 3,
   "id": "428e6b64",
   "metadata": {},
   "outputs": [
    {
     "name": "stdout",
     "output_type": "stream",
     "text": [
      "원문 \n",
      "나 보기가 역겨워 가실 때에는 말없이 고이 보내 드리오리다\n",
      "영변에 약산 진달래꽃 아름 따다 가실 길에 뿌리오리다\n",
      "가시는 걸음 걸음 놓인 그 꽃을 사뿐히 즈려 밟고 가시옵소서\n",
      "나 보기가 역겨워 가실 때에는 죽어도 아니 눈물 흘리오리다\n",
      " \n",
      "-------------------------\n",
      "문자 빈도수(4회 이상)\n",
      "-------------------------\n",
      "가 --> 7\n",
      "에 --> 4\n",
      "리 --> 6\n",
      "다 --> 4\n"
     ]
    }
   ],
   "source": [
    "## 전역 변수 선언 부분 ##\n",
    "poet = '''\n",
    "나 보기가 역겨워 가실 때에는 말없이 고이 보내 드리오리다\n",
    "영변에 약산 진달래꽃 아름 따다 가실 길에 뿌리오리다\n",
    "가시는 걸음 걸음 놓인 그 꽃을 사뿐히 즈려 밟고 가시옵소서\n",
    "나 보기가 역겨워 가실 때에는 죽어도 아니 눈물 흘리오리다\n",
    " '''\n",
    "countDic = {}\n",
    "for ch in poet :\n",
    "    if ch.isalpha() :\n",
    "        if ch in countDic :\n",
    "            countDic[ch] += 1\n",
    "        else :\n",
    "            countDic[ch] = 1\n",
    "\n",
    "print('원문', poet)\n",
    "print('-------------------------')\n",
    "print('문자 빈도수(4회 이상)')\n",
    "print('-------------------------')\n",
    "for key in countDic :\n",
    "    if countDic[key] >= 4 :\n",
    "        print(key, '-->', countDic[key])\n"
   ]
  },
  {
   "cell_type": "markdown",
   "id": "b9d5589a",
   "metadata": {},
   "source": [
    "## multi line str"
   ]
  },
  {
   "cell_type": "markdown",
   "id": "9550b32c",
   "metadata": {},
   "source": [
    "str='''\n",
    "a\n",
    "b\n",
    "c\n",
    "d\n",
    "'''"
   ]
  },
  {
   "cell_type": "markdown",
   "id": "90fd26a1",
   "metadata": {},
   "source": [
    "## str.isalpha()"
   ]
  },
  {
   "cell_type": "markdown",
   "id": "3b93f31e",
   "metadata": {},
   "source": [
    "isalpha(): 문자열의 구성이 알파벳 (한글 혹은 영어)인지 확인"
   ]
  }
 ],
 "metadata": {
  "kernelspec": {
   "display_name": "Python 3 (ipykernel)",
   "language": "python",
   "name": "python3"
  },
  "language_info": {
   "codemirror_mode": {
    "name": "ipython",
    "version": 3
   },
   "file_extension": ".py",
   "mimetype": "text/x-python",
   "name": "python",
   "nbconvert_exporter": "python",
   "pygments_lexer": "ipython3",
   "version": "3.9.12"
  }
 },
 "nbformat": 4,
 "nbformat_minor": 5
}
