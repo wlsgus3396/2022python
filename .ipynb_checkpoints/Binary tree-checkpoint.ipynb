{
 "cells": [
  {
   "cell_type": "code",
   "execution_count": 27,
   "id": "cc0aedaa",
   "metadata": {},
   "outputs": [],
   "source": [
    "class TreeNode():\n",
    "    def __init__(self):\n",
    "        self.data=None\n",
    "        self.left=None\n",
    "        self.right=None"
   ]
  },
  {
   "cell_type": "code",
   "execution_count": 28,
   "id": "7d3d2eaa",
   "metadata": {},
   "outputs": [],
   "source": [
    "def preorder(node):\n",
    "    if node==None:\n",
    "        return\n",
    "    print(node.data,end='->')\n",
    "    preorder(node.left)\n",
    "    preorder(node.right)"
   ]
  },
  {
   "cell_type": "code",
   "execution_count": 29,
   "id": "a23c621b",
   "metadata": {},
   "outputs": [],
   "source": [
    "def inorder(node):\n",
    "    if node==None:\n",
    "        return\n",
    "    inorder(node.left)\n",
    "    print(node.data,end='->')\n",
    "    inorder(node.right)"
   ]
  },
  {
   "cell_type": "code",
   "execution_count": 30,
   "id": "4e361d83",
   "metadata": {},
   "outputs": [],
   "source": [
    "def postorder(node):\n",
    "    if node==None:\n",
    "        return\n",
    "    postorder(node.left)\n",
    "    postorder(node.right)\n",
    "    print(node.data,end='->')\n",
    "    "
   ]
  },
  {
   "cell_type": "code",
   "execution_count": 31,
   "id": "459dffe2",
   "metadata": {},
   "outputs": [
    {
     "name": "stdout",
     "output_type": "stream",
     "text": [
      "이진 탐색 트리 구성 완료\n"
     ]
    }
   ],
   "source": [
    "memory=[]\n",
    "root=None\n",
    "nameAry=['블랙핑크','레드벨벳','마마무','에이핑크','걸스데이','트와이스']\n",
    "node=TreeNode()\n",
    "node.data=nameAry[0]\n",
    "root=node\n",
    "memory.append(node)\n",
    "for name in nameAry[1:]:\n",
    "    node=TreeNode()\n",
    "    node.data=name\n",
    "    current=root\n",
    "    while True:\n",
    "        if current.data>node.data:\n",
    "            if current.left==None:\n",
    "                current.left=node\n",
    "                break\n",
    "            current=current.left\n",
    "        if current.data<node.data:\n",
    "            if current.right==None:\n",
    "                current.right=node\n",
    "                break\n",
    "            current=current.right\n",
    "        memory.append(node)\n",
    "print(\"이진 탐색 트리 구성 완료\")"
   ]
  },
  {
   "cell_type": "code",
   "execution_count": 32,
   "id": "9fdbec2f",
   "metadata": {},
   "outputs": [
    {
     "name": "stdout",
     "output_type": "stream",
     "text": [
      "블랙핑크->레드벨벳->걸스데이->마마무->에이핑크->트와이스->"
     ]
    }
   ],
   "source": [
    "preorder(root)"
   ]
  },
  {
   "cell_type": "code",
   "execution_count": 33,
   "id": "5574a740",
   "metadata": {},
   "outputs": [
    {
     "name": "stdout",
     "output_type": "stream",
     "text": [
      "걸스데이->레드벨벳->마마무->블랙핑크->에이핑크->트와이스->"
     ]
    }
   ],
   "source": [
    "inorder(root)"
   ]
  },
  {
   "cell_type": "code",
   "execution_count": 34,
   "id": "790d875a",
   "metadata": {},
   "outputs": [
    {
     "name": "stdout",
     "output_type": "stream",
     "text": [
      "걸스데이->마마무->레드벨벳->트와이스->에이핑크->블랙핑크->"
     ]
    }
   ],
   "source": [
    "postorder(root)"
   ]
  },
  {
   "cell_type": "code",
   "execution_count": 35,
   "id": "9db5225a",
   "metadata": {},
   "outputs": [
    {
     "name": "stdout",
     "output_type": "stream",
     "text": [
      "마마무 을 찾음.\n"
     ]
    }
   ],
   "source": [
    "findName='마마무'\n",
    "current=root\n",
    "while True:\n",
    "    if findName==current.data:\n",
    "        print(findName,\"을 찾음.\")\n",
    "        break\n",
    "    elif findName<current.data:\n",
    "        if current.left==None:\n",
    "            print(findName,\"이 트리에 없음.\")\n",
    "            break\n",
    "        current=current.left\n",
    "    else:\n",
    "        if current.right==None:\n",
    "            print(findName,\"이 트리에 없음.\")\n",
    "            break\n",
    "        current=current.right"
   ]
  },
  {
   "cell_type": "code",
   "execution_count": 39,
   "id": "9eba3bbf",
   "metadata": {},
   "outputs": [
    {
     "name": "stdout",
     "output_type": "stream",
     "text": [
      "마마무 이 삭제됨.\n"
     ]
    }
   ],
   "source": [
    "deleteName=\"마마무\"\n",
    "current=root\n",
    "parent=None\n",
    "while True:\n",
    "    if deleteName==current.data:\n",
    "        if parent==None:\n",
    "            if current.left==None and current.right==None: \n",
    "                del(current)\n",
    "            elif current.left!=None and current.right==None:\n",
    "                root=current.left\n",
    "                del(current)\n",
    "            elif current.left==None and current.right!=None:\n",
    "                root=current.right\n",
    "                del(current)\n",
    "            else:\n",
    "                find=current.left\n",
    "                while find.right!=None:\n",
    "                    find=find.right\n",
    "                current.data=find.data\n",
    "                del(find)\n",
    "            break\n",
    "        else:  \n",
    "            if current.left==None and current.right==None: \n",
    "                del(current)\n",
    "            elif current.left!=None and current.right==None:\n",
    "                if parent.left==current:\n",
    "                    parent.left=current.left\n",
    "                else:\n",
    "                    parent.right=current.left\n",
    "                del(current)\n",
    "            elif current.left==None and current.right!=None:\n",
    "                if parent.left==current:\n",
    "                    parent.left=current.right\n",
    "                else:\n",
    "                    parent.right=current.right\n",
    "                del(current)\n",
    "            else:\n",
    "                find=current.left\n",
    "                while find.right!=None:\n",
    "                    find=find.right\n",
    "                current.data=find.data\n",
    "                del(find)\n",
    "            print(deleteName,\"이 삭제됨.\")\n",
    "            break\n",
    "    elif deleteName<current.data:\n",
    "        if current.left==None:\n",
    "            print(deleteName,\"이 트리에 없음.\")\n",
    "            break\n",
    "        parent=current\n",
    "        current=current.left\n",
    "    elif deleteName>current.data:\n",
    "        if current.right==None:\n",
    "            print(deleteName,\"이 트리에 없음.\")\n",
    "            break\n",
    "        parent=current\n",
    "        current=current.right\n",
    "        \n",
    "    \n",
    "    "
   ]
  },
  {
   "cell_type": "code",
   "execution_count": null,
   "id": "d48b2dcc",
   "metadata": {},
   "outputs": [],
   "source": []
  }
 ],
 "metadata": {
  "kernelspec": {
   "display_name": "Python 3 (ipykernel)",
   "language": "python",
   "name": "python3"
  },
  "language_info": {
   "codemirror_mode": {
    "name": "ipython",
    "version": 3
   },
   "file_extension": ".py",
   "mimetype": "text/x-python",
   "name": "python",
   "nbconvert_exporter": "python",
   "pygments_lexer": "ipython3",
   "version": "3.9.12"
  }
 },
 "nbformat": 4,
 "nbformat_minor": 5
}
