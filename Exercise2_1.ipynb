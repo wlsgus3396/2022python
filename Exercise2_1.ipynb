{
 "cells": [
  {
   "cell_type": "markdown",
   "id": "c7f74169",
   "metadata": {},
   "source": [
    "# import random\n",
    "## random.randint(a,b)\n",
    "## random.sample(A,b)\n",
    "### https://blockdmask.tistory.com/383\n"
   ]
  },
  {
   "cell_type": "code",
   "execution_count": 29,
   "id": "3f7d04f5",
   "metadata": {},
   "outputs": [
    {
     "name": "stdout",
     "output_type": "stream",
     "text": [
      "9\n",
      "[4]\n",
      "[3, 7]\n"
     ]
    }
   ],
   "source": [
    "import random\n",
    "a=random.randint(1,10)\n",
    "b=random.sample([1,2,3,4,5,6,7,8,9,10],1)\n",
    "c=random.sample(range(1,11),2)\n",
    "d=random.sample((1,2,3,4,5,6,7,8,9,10),3)\n",
    "print(a)\n",
    "print(b)\n",
    "print(c)"
   ]
  },
  {
   "cell_type": "markdown",
   "id": "9a7c5a44",
   "metadata": {},
   "source": [
    "# if a not in A"
   ]
  },
  {
   "cell_type": "code",
   "execution_count": 19,
   "id": "5fa5d84c",
   "metadata": {},
   "outputs": [
    {
     "data": {
      "text/plain": [
       "False"
      ]
     },
     "execution_count": 19,
     "metadata": {},
     "output_type": "execute_result"
    }
   ],
   "source": [
    "a=1\n",
    "A=[1,2,3]\n",
    "a not in A"
   ]
  },
  {
   "cell_type": "code",
   "execution_count": 16,
   "id": "fb09e195",
   "metadata": {},
   "outputs": [
    {
     "name": "stdout",
     "output_type": "stream",
     "text": [
      "** 로또 번호 생성을 시작합니다. **\n",
      "몇 번을 뽑을까요?3\n",
      "자동번호-->   9 16 17 28 30 44 \n",
      "자동번호-->  12 29 31 33 41 42 \n",
      "자동번호-->   2  7 14 18 36 44 \n"
     ]
    }
   ],
   "source": [
    "import random\n",
    "\n",
    "## 전역 변수 선언 부분 ##\n",
    "totalLotto = []\n",
    "lotto = []\n",
    "pickNum = 0\n",
    "count = 0\n",
    "\n",
    "## 메인 코드 부분 ##\n",
    "print(\"** 로또 번호 생성을 시작합니다. **\")\n",
    "count = int(input('몇 번을 뽑을까요?'))\n",
    "\n",
    "for _ in range(count) :\n",
    "    lotto = []\n",
    "    while True :\n",
    "        pickNum = random.randint(1, 45)\n",
    "        if pickNum not in lotto :\n",
    "            lotto.append(pickNum)\n",
    "        if len(lotto) >= 6 :\n",
    "            break\n",
    "    totalLotto.append(lotto)\n",
    "\n",
    "for lotto in totalLotto :\n",
    "    lotto.sort()\n",
    "    print('자동번호--> ', end = ' ')\n",
    "    for i in range(0, 6) :\n",
    "        print(\"%2d\" % lotto[i], end = ' ')\n",
    "    print()"
   ]
  },
  {
   "cell_type": "code",
   "execution_count": 26,
   "id": "2c7734d7",
   "metadata": {},
   "outputs": [
    {
     "name": "stdout",
     "output_type": "stream",
     "text": [
      "** 로또 번호 생성을 시작합니다. **\n",
      "몇 번을 뽑을까요?5\n",
      "자동번호-->   4 11 13 15 18 26 \n",
      "자동번호-->   9 17 19 25 28 42 \n",
      "자동번호-->   9 17 23 30 40 41 \n",
      "자동번호-->   3 12 14 17 24 26 \n",
      "자동번호-->  24 27 30 38 40 43 \n"
     ]
    }
   ],
   "source": [
    "import random\n",
    "\n",
    "## 전역 변수 선언 부분 ##\n",
    "totalLotto = []\n",
    "lotto = []\n",
    "pickNum = 0\n",
    "count = 0\n",
    "\n",
    "## 메인 코드 부분 ##\n",
    "print(\"** 로또 번호 생성을 시작합니다. **\")\n",
    "count = int(input('몇 번을 뽑을까요?'))\n",
    "\n",
    "for _ in range(count) :\n",
    "    lotto=random.sample(range(1,46),6)\n",
    "    totalLotto.append(lotto)\n",
    "\n",
    "for lotto in totalLotto :\n",
    "    lotto.sort()\n",
    "    print('자동번호--> ', end = ' ')\n",
    "    for i in range(0, 6) :\n",
    "        print(\"%2d\" % lotto[i], end = ' ')\n",
    "    print()"
   ]
  },
  {
   "cell_type": "code",
   "execution_count": null,
   "id": "7bddf4d4",
   "metadata": {},
   "outputs": [],
   "source": []
  }
 ],
 "metadata": {
  "kernelspec": {
   "display_name": "Python 3 (ipykernel)",
   "language": "python",
   "name": "python3"
  },
  "language_info": {
   "codemirror_mode": {
    "name": "ipython",
    "version": 3
   },
   "file_extension": ".py",
   "mimetype": "text/x-python",
   "name": "python",
   "nbconvert_exporter": "python",
   "pygments_lexer": "ipython3",
   "version": "3.9.12"
  }
 },
 "nbformat": 4,
 "nbformat_minor": 5
}
